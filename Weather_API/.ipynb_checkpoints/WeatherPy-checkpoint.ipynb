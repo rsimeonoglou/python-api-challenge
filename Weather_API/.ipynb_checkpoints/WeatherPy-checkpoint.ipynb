{
 "cells": [
  {
   "cell_type": "markdown",
   "metadata": {},
   "source": [
    "# WeatherPy\n",
    "----\n",
    "\n",
    "#### Note\n",
    "* Instructions have been included for each segment. You do not have to follow them exactly, but they are included to help you think through the steps."
   ]
  },
  {
   "cell_type": "code",
   "execution_count": 30,
   "metadata": {
    "scrolled": true
   },
   "outputs": [],
   "source": [
    "# Dependencies and Setup\n",
    "import matplotlib.pyplot as plt\n",
    "import pandas as pd\n",
    "import numpy as np\n",
    "import requests\n",
    "import time\n",
    "import scipy.stats as st\n",
    "\n",
    "# Import API key\n",
    "from api_keys import weather_api_key\n",
    "\n",
    "# Incorporated citipy to determine city based on latitude and longitude\n",
    "from citipy import citipy\n",
    "\n",
    "# Output File (CSV)\n",
    "output_data_file = \"../output_data/cities.csv\"\n",
    "\n",
    "# Range of latitudes and longitudes\n",
    "lat_range = (-90, 90)\n",
    "lng_range = (-180, 180)"
   ]
  },
  {
   "cell_type": "markdown",
   "metadata": {},
   "source": [
    "## Generate Cities List"
   ]
  },
  {
   "cell_type": "code",
   "execution_count": 36,
   "metadata": {},
   "outputs": [
    {
     "data": {
      "text/plain": [
       "622"
      ]
     },
     "execution_count": 36,
     "metadata": {},
     "output_type": "execute_result"
    }
   ],
   "source": [
    "# List for holding lat_lngs and cities\n",
    "lat_lngs = []\n",
    "cities = []\n",
    "\n",
    "# Create a set of random lat and lng combinations\n",
    "lats = np.random.uniform(lat_range[0], lat_range[1], size=1500)\n",
    "lngs = np.random.uniform(lng_range[0], lng_range[1], size=1500)\n",
    "lat_lngs = zip(lats, lngs)\n",
    "\n",
    "# Identify nearest city for each lat, lng combination\n",
    "for lat_lng in lat_lngs:\n",
    "    city = citipy.nearest_city(lat_lng[0], lat_lng[1]).city_name\n",
    "    \n",
    "    # If the city is unique, then add it to a our cities list\n",
    "    if city not in cities:\n",
    "        cities.append(city)\n",
    "\n",
    "# Print the city count to confirm sufficient count\n",
    "len(cities)"
   ]
  },
  {
   "cell_type": "markdown",
   "metadata": {},
   "source": [
    "### Perform API Calls\n",
    "* Perform a weather check on each city using a series of successive API calls.\n",
    "* Include a print log of each city as it'sbeing processed (with the city number and city name).\n"
   ]
  },
  {
   "cell_type": "code",
   "execution_count": 37,
   "metadata": {
    "scrolled": true
   },
   "outputs": [
    {
     "name": "stdout",
     "output_type": "stream",
     "text": [
      "Beginning Data Retrieval:\n",
      "-----------------------------\n",
      "Processing Record 1 of Set 1 | puerto ayora\n",
      "Processing Record 2 of Set 1 | poum\n",
      "Processing Record 3 of Set 1 | sola\n",
      "Processing Record 4 of Set 1 | narsaq\n",
      "Processing Record 5 of Set 1 | butaritari\n",
      "Processing Record 6 of Set 1 | juba\n",
      "Processing Record 7 of Set 1 | guanare\n",
      "Processing Record 8 of Set 1 | port alfred\n",
      "Processing Record 9 of Set 1 | new norfolk\n",
      "Processing Record 10 of Set 1 | cape town\n",
      "Processing Record 11 of Set 1 | nemuro\n",
      "Processing Record 12 of Set 1 | cidreira\n",
      "Processing Record 13 of Set 1 | kikwit\n",
      "Processing Record 14 of Set 1 | jequie\n",
      "Processing Record 15 of Set 1 | angoche\n",
      "Processing Record 16 of Set 1 | mataura\n",
      "Processing Record 17 of Set 1 | ushuaia\n",
      "City not found in API | barentsburg\n",
      "Processing Record 18 of Set 1 | cururupu\n",
      "City not found in API | mahadday weyne\n",
      "Processing Record 19 of Set 1 | port hardy\n",
      "Processing Record 20 of Set 1 | vagur\n",
      "Processing Record 21 of Set 1 | ribeira grande\n",
      "Processing Record 22 of Set 1 | korhogo\n",
      "Processing Record 23 of Set 1 | surgana\n",
      "Processing Record 24 of Set 1 | dikson\n",
      "Processing Record 25 of Set 1 | arman\n",
      "Processing Record 26 of Set 1 | luderitz\n",
      "City not found in API | illoqqortoormiut\n",
      "Processing Record 27 of Set 1 | codrington\n",
      "Processing Record 28 of Set 1 | jinchang\n",
      "Processing Record 29 of Set 1 | rundu\n",
      "Processing Record 30 of Set 1 | barrow\n",
      "Processing Record 31 of Set 1 | hilo\n",
      "City not found in API | taolanaro\n",
      "Processing Record 32 of Set 1 | mandalgovi\n",
      "Processing Record 33 of Set 1 | gucheng\n",
      "Processing Record 34 of Set 1 | guadalupe y calvo\n",
      "Processing Record 35 of Set 1 | georgetown\n",
      "Processing Record 36 of Set 1 | honiara\n",
      "City not found in API | belushya guba\n",
      "Processing Record 37 of Set 1 | methoni\n",
      "Processing Record 38 of Set 1 | caravelas\n",
      "Processing Record 39 of Set 1 | port lincoln\n",
      "Processing Record 40 of Set 1 | cabo san lucas\n",
      "Processing Record 41 of Set 1 | tolaga bay\n",
      "Processing Record 42 of Set 1 | padang\n",
      "Processing Record 43 of Set 1 | punta arenas\n",
      "Processing Record 44 of Set 1 | alice springs\n",
      "Processing Record 45 of Set 1 | meulaboh\n",
      "Processing Record 46 of Set 1 | saint-philippe\n",
      "Processing Record 47 of Set 1 | sigli\n",
      "Processing Record 48 of Set 1 | souillac\n",
      "Processing Record 49 of Set 1 | terra santa\n",
      "Processing Record 50 of Set 1 | jamestown\n",
      "Processing Record 51 of Set 1 | koslan\n",
      "Processing Record 52 of Set 1 | san ramon\n",
      "Processing Record 53 of Set 1 | dudinka\n",
      "Processing Record 54 of Set 1 | beloha\n",
      "Processing Record 55 of Set 1 | arraial do cabo\n",
      "Processing Record 56 of Set 1 | bilma\n",
      "Processing Record 57 of Set 1 | aberdeen\n",
      "Processing Record 58 of Set 1 | prince rupert\n",
      "Processing Record 59 of Set 1 | hermanus\n",
      "Processing Record 60 of Set 1 | waterfoot\n",
      "Processing Record 61 of Set 1 | east london\n",
      "Processing Record 62 of Set 1 | noumea\n",
      "Processing Record 63 of Set 1 | hobart\n",
      "Processing Record 64 of Set 1 | pevek\n",
      "Processing Record 65 of Set 1 | payerne\n",
      "Processing Record 66 of Set 1 | castro\n",
      "Processing Record 67 of Set 1 | shingu\n",
      "Processing Record 68 of Set 1 | albany\n",
      "Processing Record 69 of Set 1 | talara\n",
      "Processing Record 70 of Set 1 | bokovskaya\n",
      "Processing Record 71 of Set 1 | qaqortoq\n",
      "Processing Record 72 of Set 1 | mar del plata\n",
      "Processing Record 73 of Set 1 | chandler\n",
      "Processing Record 74 of Set 1 | camopi\n",
      "Processing Record 75 of Set 1 | lompoc\n",
      "Processing Record 76 of Set 1 | pangoa\n",
      "Processing Record 77 of Set 1 | nanortalik\n",
      "Processing Record 78 of Set 1 | bluff\n",
      "Processing Record 79 of Set 1 | khatanga\n",
      "Processing Record 80 of Set 1 | gizo\n",
      "Processing Record 81 of Set 1 | champerico\n",
      "Processing Record 82 of Set 1 | dhidhdhoo\n",
      "Processing Record 83 of Set 1 | vaini\n",
      "Processing Record 84 of Set 1 | mackenzie\n",
      "Processing Record 85 of Set 1 | campeche\n",
      "Processing Record 86 of Set 1 | rikitea\n",
      "City not found in API | tsihombe\n",
      "Processing Record 87 of Set 1 | cape coast\n",
      "Processing Record 88 of Set 1 | kavaratti\n",
      "Processing Record 89 of Set 1 | salta\n",
      "Processing Record 90 of Set 1 | thompson\n",
      "Processing Record 91 of Set 1 | tautira\n",
      "Processing Record 92 of Set 1 | canto do buriti\n",
      "Processing Record 93 of Set 1 | gwanda\n",
      "Processing Record 94 of Set 1 | shelburne\n",
      "Processing Record 95 of Set 1 | lebu\n",
      "Processing Record 96 of Set 1 | bud\n",
      "Processing Record 97 of Set 1 | victoria\n",
      "Processing Record 98 of Set 1 | naliya\n",
      "Processing Record 99 of Set 1 | bredasdorp\n",
      "Processing Record 100 of Set 1 | avarua\n",
      "Processing Record 101 of Set 1 | yellowknife\n",
      "Processing Record 102 of Set 1 | busselton\n",
      "Processing Record 103 of Set 1 | vidim\n",
      "Processing Record 104 of Set 1 | hasaki\n",
      "Processing Record 105 of Set 1 | la gomera\n",
      "Processing Record 106 of Set 1 | alihe\n",
      "City not found in API | amderma\n",
      "Processing Record 107 of Set 1 | ilulissat\n",
      "Processing Record 108 of Set 1 | coquimbo\n",
      "Processing Record 109 of Set 1 | lagoa\n",
      "Processing Record 110 of Set 1 | ewo\n",
      "Processing Record 111 of Set 1 | vila praia de ancora\n",
      "Processing Record 112 of Set 1 | jimma\n",
      "Processing Record 113 of Set 1 | bereda\n",
      "Processing Record 114 of Set 1 | sitka\n",
      "Processing Record 115 of Set 1 | los llanos de aridane\n",
      "Processing Record 116 of Set 1 | juneau\n",
      "Processing Record 117 of Set 1 | suntar\n",
      "Processing Record 118 of Set 1 | jurm\n",
      "Processing Record 119 of Set 1 | las cruces\n",
      "City not found in API | falaleu\n",
      "Processing Record 120 of Set 1 | airai\n",
      "Processing Record 121 of Set 1 | dalbandin\n",
      "City not found in API | tawkar\n",
      "Processing Record 122 of Set 1 | smoky lake\n",
      "Processing Record 123 of Set 1 | ca mau\n",
      "Processing Record 124 of Set 1 | beira\n",
      "Processing Record 125 of Set 1 | ballina\n",
      "Processing Record 126 of Set 1 | hithadhoo\n",
      "Processing Record 127 of Set 1 | dunmore town\n",
      "Processing Record 128 of Set 1 | kumluca\n",
      "Processing Record 129 of Set 1 | buala\n",
      "Processing Record 130 of Set 1 | harwich\n",
      "Processing Record 131 of Set 1 | cherskiy\n",
      "City not found in API | talawdi\n",
      "City not found in API | sorvag\n",
      "Processing Record 132 of Set 1 | rosarito\n",
      "Processing Record 133 of Set 1 | chipinge\n",
      "Processing Record 134 of Set 1 | longyearbyen\n",
      "Processing Record 135 of Set 1 | calvinia\n",
      "Processing Record 136 of Set 1 | sukabumi\n",
      "Processing Record 137 of Set 1 | azare\n",
      "Processing Record 138 of Set 1 | kapaa\n",
      "Processing Record 139 of Set 1 | bethel\n",
      "Processing Record 140 of Set 1 | geraldton\n",
      "Processing Record 141 of Set 1 | bure\n",
      "City not found in API | vaitupu\n",
      "Processing Record 142 of Set 1 | nikolskoye\n",
      "Processing Record 143 of Set 1 | chokurdakh\n",
      "Processing Record 144 of Set 1 | faanui\n",
      "Processing Record 145 of Set 1 | acarau\n",
      "Processing Record 146 of Set 1 | aranos\n",
      "Processing Record 147 of Set 1 | leighton buzzard\n",
      "Processing Record 148 of Set 1 | zhoucun\n",
      "Processing Record 149 of Set 1 | ishigaki\n",
      "Processing Record 150 of Set 1 | magistralnyy\n",
      "Processing Record 151 of Set 1 | kaitangata\n",
      "Processing Record 152 of Set 1 | kirovskiy\n",
      "Processing Record 153 of Set 1 | atuona\n",
      "City not found in API | tumannyy\n",
      "Processing Record 154 of Set 1 | las choapas\n",
      "Processing Record 155 of Set 1 | celestun\n",
      "Processing Record 156 of Set 1 | provideniya\n",
      "Processing Record 157 of Set 1 | zhoucheng\n",
      "Processing Record 158 of Set 1 | alamosa\n",
      "Processing Record 159 of Set 1 | mahebourg\n",
      "Processing Record 160 of Set 1 | sabaudia\n",
      "Processing Record 161 of Set 1 | port elizabeth\n",
      "Processing Record 162 of Set 1 | college\n",
      "Processing Record 163 of Set 1 | kodiak\n",
      "Processing Record 164 of Set 1 | mwadui\n",
      "Processing Record 165 of Set 1 | namibe\n",
      "City not found in API | ngukurr\n",
      "Processing Record 166 of Set 1 | shache\n",
      "Processing Record 167 of Set 1 | kingston upon hull\n",
      "Processing Record 168 of Set 1 | carnarvon\n",
      "City not found in API | attawapiskat\n",
      "Processing Record 169 of Set 1 | kamenka\n",
      "City not found in API | vastervik\n",
      "Processing Record 170 of Set 1 | northam\n",
      "Processing Record 171 of Set 1 | grand gaube\n",
      "Processing Record 172 of Set 1 | astoria\n",
      "Processing Record 173 of Set 1 | eyl\n",
      "Processing Record 174 of Set 1 | maniitsoq\n",
      "Processing Record 175 of Set 1 | longhua\n",
      "Processing Record 176 of Set 1 | cintalapa\n",
      "Processing Record 177 of Set 1 | guaymas\n",
      "Processing Record 178 of Set 1 | ihosy\n",
      "Processing Record 179 of Set 1 | evensk\n",
      "Processing Record 180 of Set 1 | hualmay\n",
      "City not found in API | samusu\n",
      "Processing Record 181 of Set 1 | ponta do sol\n",
      "Processing Record 182 of Set 1 | tandil\n",
      "Processing Record 183 of Set 1 | qaanaaq\n",
      "Processing Record 184 of Set 1 | chuy\n",
      "Processing Record 185 of Set 1 | iaciara\n"
     ]
    },
    {
     "name": "stdout",
     "output_type": "stream",
     "text": [
      "Processing Record 186 of Set 1 | honningsvag\n",
      "Processing Record 187 of Set 1 | ginir\n",
      "Processing Record 188 of Set 1 | pangnirtung\n",
      "Processing Record 189 of Set 1 | kungurtug\n",
      "Processing Record 190 of Set 1 | mareeba\n",
      "Processing Record 191 of Set 1 | iqaluit\n",
      "Processing Record 192 of Set 1 | tshikapa\n",
      "City not found in API | bury saint edmunds\n",
      "Processing Record 193 of Set 1 | yelovo\n",
      "City not found in API | mys shmidta\n",
      "Processing Record 194 of Set 1 | tiksi\n",
      "Processing Record 195 of Set 1 | sisimiut\n",
      "Processing Record 196 of Set 1 | oussouye\n",
      "Processing Record 197 of Set 1 | hervey bay\n",
      "Processing Record 198 of Set 1 | veinticinco de mayo\n",
      "Processing Record 199 of Set 1 | santa isabel\n",
      "City not found in API | marcona\n",
      "Processing Record 200 of Set 1 | kudahuvadhoo\n",
      "Processing Record 201 of Set 1 | takoradi\n",
      "Processing Record 202 of Set 1 | lavrentiya\n",
      "Processing Record 203 of Set 1 | bayji\n",
      "Processing Record 204 of Set 1 | coahuayana\n",
      "Processing Record 205 of Set 1 | saskylakh\n",
      "Processing Record 206 of Set 1 | petawawa\n",
      "Processing Record 207 of Set 1 | kieta\n",
      "Processing Record 208 of Set 1 | epe\n",
      "City not found in API | sentyabrskiy\n",
      "Processing Record 209 of Set 1 | esil\n",
      "Processing Record 210 of Set 1 | miramar\n",
      "Processing Record 211 of Set 1 | saldanha\n",
      "Processing Record 212 of Set 1 | tuktoyaktuk\n",
      "Processing Record 213 of Set 1 | kyshtovka\n",
      "Processing Record 214 of Set 1 | westport\n",
      "Processing Record 215 of Set 1 | kiunga\n",
      "Processing Record 216 of Set 1 | bathsheba\n",
      "Processing Record 217 of Set 1 | te anau\n",
      "City not found in API | ambodifototra\n",
      "Processing Record 218 of Set 1 | ibiapina\n",
      "Processing Record 219 of Set 1 | san patricio\n",
      "Processing Record 220 of Set 1 | sao raimundo das mangabeiras\n",
      "Processing Record 221 of Set 1 | taltal\n",
      "Processing Record 222 of Set 1 | vila velha\n",
      "Processing Record 223 of Set 1 | touros\n",
      "Processing Record 224 of Set 1 | mount isa\n",
      "Processing Record 225 of Set 1 | gari\n",
      "Processing Record 226 of Set 1 | tilichiki\n",
      "Processing Record 227 of Set 1 | san ignacio\n",
      "Processing Record 228 of Set 1 | mwandiga\n",
      "Processing Record 229 of Set 1 | saint anthony\n",
      "Processing Record 230 of Set 1 | chulym\n",
      "Processing Record 231 of Set 1 | cheney\n",
      "Processing Record 232 of Set 1 | andenes\n",
      "Processing Record 233 of Set 1 | rach gia\n",
      "Processing Record 234 of Set 1 | saint george\n",
      "Processing Record 235 of Set 1 | chalette-sur-loing\n",
      "Processing Record 236 of Set 1 | rantepao\n",
      "Processing Record 237 of Set 1 | yumen\n",
      "Processing Record 238 of Set 1 | twin falls\n",
      "Processing Record 239 of Set 1 | olinda\n",
      "Processing Record 240 of Set 1 | pemberton\n",
      "City not found in API | doctor pedro p. pena\n",
      "Processing Record 241 of Set 1 | udachnyy\n",
      "Processing Record 242 of Set 1 | dawei\n",
      "Processing Record 243 of Set 1 | port charlotte\n",
      "Processing Record 244 of Set 1 | shetpe\n",
      "Processing Record 245 of Set 1 | brae\n",
      "Processing Record 246 of Set 1 | clyde river\n",
      "Processing Record 247 of Set 1 | mercedes\n",
      "Processing Record 248 of Set 1 | omboue\n",
      "Processing Record 249 of Set 1 | rauma\n",
      "Processing Record 250 of Set 1 | bequimao\n",
      "Processing Record 251 of Set 1 | lasem\n",
      "Processing Record 252 of Set 1 | diego de almagro\n",
      "Processing Record 253 of Set 1 | dhadar\n",
      "Processing Record 254 of Set 1 | baykit\n",
      "Processing Record 255 of Set 1 | asau\n",
      "Processing Record 256 of Set 1 | naze\n",
      "Processing Record 257 of Set 1 | shimoda\n",
      "Processing Record 258 of Set 1 | strezhevoy\n",
      "Processing Record 259 of Set 1 | campina verde\n",
      "City not found in API | dzhusaly\n",
      "Processing Record 260 of Set 1 | coracora\n",
      "Processing Record 261 of Set 1 | lander\n",
      "City not found in API | scottsburgh\n",
      "Processing Record 262 of Set 1 | winnemucca\n",
      "Processing Record 263 of Set 1 | ankazoabo\n",
      "Processing Record 264 of Set 1 | marfino\n",
      "Processing Record 265 of Set 1 | numan\n",
      "Processing Record 266 of Set 1 | vila\n",
      "Processing Record 267 of Set 1 | praia da vitoria\n",
      "Processing Record 268 of Set 1 | paamiut\n",
      "Processing Record 269 of Set 1 | hoopstad\n",
      "Processing Record 270 of Set 1 | alta floresta\n",
      "Processing Record 271 of Set 1 | chickasha\n",
      "Processing Record 272 of Set 1 | rock sound\n",
      "Processing Record 273 of Set 1 | bosaso\n",
      "Processing Record 274 of Set 1 | nianzishan\n",
      "Processing Record 275 of Set 1 | dokka\n",
      "Processing Record 276 of Set 1 | wajima\n",
      "Processing Record 277 of Set 1 | khandyga\n",
      "Processing Record 278 of Set 1 | grindavik\n",
      "Processing Record 279 of Set 1 | ahipara\n",
      "Processing Record 280 of Set 1 | langarud\n",
      "Processing Record 281 of Set 1 | krasnoye\n",
      "Processing Record 282 of Set 1 | hamilton\n",
      "Processing Record 283 of Set 1 | taoudenni\n",
      "Processing Record 284 of Set 1 | oro valley\n",
      "Processing Record 285 of Set 1 | makaryev\n",
      "Processing Record 286 of Set 1 | tongchuan\n",
      "Processing Record 287 of Set 1 | la ronge\n",
      "Processing Record 288 of Set 1 | upernavik\n",
      "Processing Record 289 of Set 1 | henties bay\n",
      "Processing Record 290 of Set 1 | guerrero negro\n",
      "Processing Record 291 of Set 1 | tahta\n",
      "Processing Record 292 of Set 1 | gigmoto\n",
      "City not found in API | hihifo\n",
      "Processing Record 293 of Set 1 | korem\n",
      "Processing Record 294 of Set 1 | leningradskiy\n",
      "Processing Record 295 of Set 1 | hirara\n",
      "Processing Record 296 of Set 1 | mersing\n",
      "Processing Record 297 of Set 1 | tornio\n",
      "Processing Record 298 of Set 1 | hoogeveen\n",
      "Processing Record 299 of Set 1 | vila franca do campo\n",
      "City not found in API | kadykchan\n",
      "Processing Record 300 of Set 1 | bredy\n",
      "Processing Record 301 of Set 1 | kyra\n",
      "Processing Record 302 of Set 1 | chernogorsk\n",
      "City not found in API | ijaki\n",
      "Processing Record 303 of Set 1 | utevka\n",
      "Processing Record 304 of Set 1 | kirakira\n",
      "Processing Record 305 of Set 1 | xunchang\n",
      "Processing Record 306 of Set 1 | afrikanda\n",
      "Processing Record 307 of Set 1 | le moule\n",
      "Processing Record 308 of Set 1 | santa cruz\n",
      "Processing Record 309 of Set 1 | nome\n",
      "Processing Record 310 of Set 1 | mokhsogollokh\n",
      "Processing Record 311 of Set 1 | swinoujscie\n",
      "Processing Record 312 of Set 1 | ilembula\n",
      "Processing Record 313 of Set 1 | jalu\n",
      "Processing Record 314 of Set 1 | pilar\n",
      "City not found in API | gardan diwal\n",
      "Processing Record 315 of Set 1 | kambove\n",
      "Processing Record 316 of Set 1 | fairbanks\n",
      "Processing Record 317 of Set 1 | gualeguay\n",
      "Processing Record 318 of Set 1 | kokopo\n",
      "Processing Record 319 of Set 1 | kayes\n",
      "Processing Record 320 of Set 1 | jizan\n",
      "Processing Record 321 of Set 1 | vvedenka\n",
      "Processing Record 322 of Set 1 | calhoun\n",
      "Processing Record 323 of Set 1 | hambantota\n",
      "Processing Record 324 of Set 1 | iquique\n",
      "Processing Record 325 of Set 1 | cockburn town\n",
      "Processing Record 326 of Set 1 | seidu\n",
      "Processing Record 327 of Set 1 | tura\n",
      "Processing Record 328 of Set 1 | sambava\n",
      "City not found in API | suao\n",
      "Processing Record 329 of Set 1 | ugoofaaru\n",
      "Processing Record 330 of Set 1 | mehamn\n",
      "Processing Record 331 of Set 1 | esperance\n",
      "Processing Record 332 of Set 1 | moron\n",
      "Processing Record 333 of Set 1 | vestmannaeyjar\n",
      "Processing Record 334 of Set 1 | broken hill\n",
      "Processing Record 335 of Set 1 | whitehorse\n",
      "Processing Record 336 of Set 1 | pacifica\n",
      "Processing Record 337 of Set 1 | torbay\n",
      "Processing Record 338 of Set 1 | najran\n",
      "Processing Record 339 of Set 1 | kaniama\n",
      "Processing Record 340 of Set 1 | prokopyevsk\n",
      "Processing Record 341 of Set 1 | ngunguru\n",
      "Processing Record 342 of Set 1 | kulhudhuffushi\n",
      "Processing Record 343 of Set 1 | biak\n",
      "Processing Record 344 of Set 1 | tres arroyos\n",
      "City not found in API | uwayl\n",
      "City not found in API | dolbeau\n",
      "Processing Record 345 of Set 1 | zhigansk\n",
      "Processing Record 346 of Set 1 | limon\n",
      "Processing Record 347 of Set 1 | la paz\n",
      "Processing Record 348 of Set 1 | zhanakorgan\n",
      "Processing Record 349 of Set 1 | anadyr\n",
      "Processing Record 350 of Set 1 | rawson\n",
      "Processing Record 351 of Set 1 | yichang\n",
      "Processing Record 352 of Set 1 | camacha\n",
      "Processing Record 353 of Set 1 | miri\n",
      "Processing Record 354 of Set 1 | saint-joseph\n",
      "Processing Record 355 of Set 1 | ilo\n",
      "Processing Record 356 of Set 1 | nhulunbuy\n",
      "Processing Record 357 of Set 1 | neyvo-shaytanskiy\n",
      "Processing Record 358 of Set 1 | necochea\n",
      "Processing Record 359 of Set 1 | verkhnevilyuysk\n",
      "City not found in API | umm ruwabah\n",
      "Processing Record 360 of Set 1 | kourou\n",
      "Processing Record 361 of Set 1 | koumac\n",
      "Processing Record 362 of Set 1 | port-gentil\n",
      "Processing Record 363 of Set 1 | dingle\n",
      "Processing Record 364 of Set 1 | isangel\n",
      "Processing Record 365 of Set 1 | khandbari\n",
      "Processing Record 366 of Set 1 | piste\n"
     ]
    },
    {
     "name": "stdout",
     "output_type": "stream",
     "text": [
      "Processing Record 367 of Set 1 | wasilla\n",
      "Processing Record 368 of Set 1 | magadan\n",
      "Processing Record 369 of Set 1 | bafia\n",
      "Processing Record 370 of Set 1 | saiha\n",
      "City not found in API | meyungs\n",
      "Processing Record 371 of Set 1 | tasiilaq\n",
      "Processing Record 372 of Set 1 | sharjah\n",
      "Processing Record 373 of Set 1 | stephenville\n",
      "Processing Record 374 of Set 1 | hofn\n",
      "Processing Record 375 of Set 1 | bengkulu\n",
      "Processing Record 376 of Set 1 | klaksvik\n",
      "Processing Record 377 of Set 1 | makakilo city\n",
      "Processing Record 378 of Set 1 | dombas\n",
      "Processing Record 379 of Set 1 | sabang\n",
      "Processing Record 380 of Set 1 | verkhniy rohachyk\n",
      "Processing Record 381 of Set 1 | pauini\n",
      "Processing Record 382 of Set 1 | bien hoa\n",
      "Processing Record 383 of Set 1 | ostrovnoy\n",
      "Processing Record 384 of Set 1 | olafsvik\n",
      "Processing Record 385 of Set 1 | tongliao\n",
      "Processing Record 386 of Set 1 | kihei\n",
      "Processing Record 387 of Set 1 | teya\n",
      "Processing Record 388 of Set 1 | mindelo\n",
      "Processing Record 389 of Set 1 | tchibanga\n",
      "Processing Record 390 of Set 1 | belmonte\n",
      "Processing Record 391 of Set 1 | nizhniy novgorod\n",
      "Processing Record 392 of Set 1 | izumo\n",
      "Processing Record 393 of Set 1 | burgersdorp\n",
      "Processing Record 394 of Set 1 | clinton\n",
      "Processing Record 395 of Set 1 | kaohsiung\n",
      "Processing Record 396 of Set 1 | rio gallegos\n",
      "Processing Record 397 of Set 1 | mae sai\n",
      "Processing Record 398 of Set 1 | sao filipe\n",
      "City not found in API | saleaula\n",
      "Processing Record 399 of Set 1 | okha\n",
      "City not found in API | grand river south east\n",
      "Processing Record 400 of Set 1 | chandil\n",
      "Processing Record 401 of Set 1 | hwange\n",
      "Processing Record 402 of Set 1 | palmeira\n",
      "Processing Record 403 of Set 1 | kruisfontein\n",
      "Processing Record 404 of Set 1 | vostok\n",
      "Processing Record 405 of Set 1 | constitucion\n",
      "Processing Record 406 of Set 1 | kongolo\n",
      "Processing Record 407 of Set 1 | walvis bay\n",
      "Processing Record 408 of Set 1 | cartagena\n",
      "Processing Record 409 of Set 1 | turukhansk\n",
      "Processing Record 410 of Set 1 | severo-kurilsk\n",
      "Processing Record 411 of Set 1 | lebork\n",
      "City not found in API | toliary\n",
      "Processing Record 412 of Set 1 | maceio\n",
      "Processing Record 413 of Set 1 | cairns\n",
      "Processing Record 414 of Set 1 | babu\n",
      "Processing Record 415 of Set 1 | roblin\n",
      "Processing Record 416 of Set 1 | gimli\n",
      "Processing Record 417 of Set 1 | progreso\n",
      "Processing Record 418 of Set 1 | lahti\n",
      "Processing Record 419 of Set 1 | luan\n",
      "Processing Record 420 of Set 1 | vicosa\n",
      "Processing Record 421 of Set 1 | tucuman\n",
      "Processing Record 422 of Set 1 | lorengau\n",
      "Processing Record 423 of Set 1 | sept-iles\n",
      "City not found in API | warqla\n",
      "Processing Record 424 of Set 1 | agadir\n",
      "City not found in API | mocambique\n",
      "Processing Record 425 of Set 1 | monrovia\n",
      "Processing Record 426 of Set 1 | umm lajj\n",
      "Processing Record 427 of Set 1 | sinnamary\n",
      "Processing Record 428 of Set 1 | beaverlodge\n",
      "Processing Record 429 of Set 1 | enid\n",
      "Processing Record 430 of Set 1 | haines junction\n",
      "Processing Record 431 of Set 1 | ligayan\n",
      "Processing Record 432 of Set 1 | mpanda\n",
      "Processing Record 433 of Set 1 | floro\n",
      "Processing Record 434 of Set 1 | otradnoye\n",
      "Processing Record 435 of Set 1 | lac du bonnet\n",
      "Processing Record 436 of Set 1 | launceston\n",
      "Processing Record 437 of Set 1 | mogadishu\n",
      "Processing Record 438 of Set 1 | kerrville\n",
      "Processing Record 439 of Set 1 | coihaique\n",
      "Processing Record 440 of Set 1 | kysyl-syr\n",
      "Processing Record 441 of Set 1 | savannah bight\n",
      "Processing Record 442 of Set 1 | qui nhon\n",
      "Processing Record 443 of Set 1 | natal\n",
      "Processing Record 444 of Set 1 | high level\n",
      "Processing Record 445 of Set 1 | atambua\n",
      "Processing Record 446 of Set 1 | takestan\n",
      "Processing Record 447 of Set 1 | ilave\n",
      "Processing Record 448 of Set 1 | bulgan\n",
      "City not found in API | bandar-e torkaman\n",
      "City not found in API | nizhneyansk\n",
      "Processing Record 449 of Set 1 | egvekinot\n",
      "Processing Record 450 of Set 1 | khani\n",
      "Processing Record 451 of Set 1 | paris\n",
      "Processing Record 452 of Set 1 | zhanaozen\n",
      "Processing Record 453 of Set 1 | broome\n",
      "Processing Record 454 of Set 1 | cayenne\n",
      "Processing Record 455 of Set 1 | chodavaram\n",
      "Processing Record 456 of Set 1 | aripuana\n",
      "Processing Record 457 of Set 1 | hefei\n",
      "Processing Record 458 of Set 1 | fengkou\n",
      "Processing Record 459 of Set 1 | byron bay\n",
      "Processing Record 460 of Set 1 | adrar\n",
      "Processing Record 461 of Set 1 | tutoia\n",
      "Processing Record 462 of Set 1 | burnie\n",
      "Processing Record 463 of Set 1 | margate\n",
      "Processing Record 464 of Set 1 | vanimo\n",
      "Processing Record 465 of Set 1 | puerto leguizamo\n",
      "Processing Record 466 of Set 1 | west bay\n",
      "Processing Record 467 of Set 1 | billings\n",
      "Processing Record 468 of Set 1 | vieques\n",
      "Processing Record 469 of Set 1 | meadow lake\n",
      "Processing Record 470 of Set 1 | bogorodskoye\n",
      "Processing Record 471 of Set 1 | buin\n",
      "City not found in API | karaul\n",
      "Processing Record 472 of Set 1 | anupgarh\n",
      "Processing Record 473 of Set 1 | kandi\n",
      "Processing Record 474 of Set 1 | cabra\n",
      "City not found in API | hire\n",
      "Processing Record 475 of Set 1 | nishihara\n",
      "Processing Record 476 of Set 1 | thap than\n",
      "Processing Record 477 of Set 1 | thessalon\n",
      "Processing Record 478 of Set 1 | calamar\n",
      "Processing Record 479 of Set 1 | amboasary\n",
      "Processing Record 480 of Set 1 | senanga\n",
      "Processing Record 481 of Set 1 | fort-shevchenko\n",
      "City not found in API | ruatoria\n",
      "Processing Record 482 of Set 1 | ambon\n",
      "Processing Record 483 of Set 1 | lahaina\n",
      "Processing Record 484 of Set 1 | fort myers beach\n",
      "Processing Record 485 of Set 1 | tatarsk\n",
      "Processing Record 486 of Set 1 | riyadh\n",
      "Processing Record 487 of Set 1 | berlevag\n",
      "Processing Record 488 of Set 1 | arys\n",
      "Processing Record 489 of Set 1 | pedernales\n",
      "Processing Record 490 of Set 1 | pacific grove\n",
      "Processing Record 491 of Set 1 | bhadra\n",
      "Processing Record 492 of Set 1 | ancud\n",
      "Processing Record 493 of Set 1 | boizenburg\n",
      "Processing Record 494 of Set 1 | bubaque\n",
      "Processing Record 495 of Set 1 | moose factory\n",
      "City not found in API | rungata\n",
      "Processing Record 496 of Set 1 | shar\n",
      "City not found in API | lolua\n",
      "Processing Record 497 of Set 1 | qasigiannguit\n",
      "City not found in API | chugunash\n",
      "Processing Record 498 of Set 1 | mersin\n",
      "Processing Record 499 of Set 1 | salvador\n",
      "Processing Record 500 of Set 1 | waddan\n",
      "City not found in API | wahran\n",
      "Processing Record 501 of Set 1 | itacarambi\n",
      "Processing Record 502 of Set 1 | yulara\n",
      "Processing Record 503 of Set 1 | gat\n",
      "Processing Record 504 of Set 1 | navoi\n",
      "Processing Record 505 of Set 1 | zamora\n",
      "Processing Record 506 of Set 1 | labuhan\n",
      "Processing Record 507 of Set 1 | milkovo\n",
      "Processing Record 508 of Set 1 | bairiki\n",
      "Processing Record 509 of Set 1 | bac lieu\n",
      "Processing Record 510 of Set 1 | christchurch\n",
      "Processing Record 511 of Set 1 | mnogovershinnyy\n",
      "Processing Record 512 of Set 1 | karmala\n",
      "Processing Record 513 of Set 1 | juegang\n",
      "Processing Record 514 of Set 1 | havelock\n",
      "Processing Record 515 of Set 1 | lata\n",
      "Processing Record 516 of Set 1 | mitzic\n",
      "Processing Record 517 of Set 1 | longonjo\n",
      "Processing Record 518 of Set 1 | vardo\n",
      "Processing Record 519 of Set 1 | sarkand\n",
      "Processing Record 520 of Set 1 | miandoab\n",
      "City not found in API | toungoo\n",
      "Processing Record 521 of Set 1 | besancon\n",
      "Processing Record 522 of Set 1 | koungou\n",
      "Processing Record 523 of Set 1 | kenitra\n",
      "Processing Record 524 of Set 1 | moyo\n",
      "Processing Record 525 of Set 1 | kearney\n",
      "Processing Record 526 of Set 1 | bambous virieux\n",
      "Processing Record 527 of Set 1 | aklavik\n",
      "Processing Record 528 of Set 1 | lampa\n",
      "Processing Record 529 of Set 1 | goranboy\n",
      "Processing Record 530 of Set 1 | canon city\n",
      "City not found in API | palabuhanratu\n",
      "City not found in API | camanci\n",
      "Processing Record 531 of Set 1 | sosnovo-ozerskoye\n",
      "Processing Record 532 of Set 1 | vao\n",
      "Processing Record 533 of Set 1 | san francisco\n",
      "Processing Record 534 of Set 1 | san rafael del sur\n",
      "Processing Record 535 of Set 1 | igarka\n",
      "Processing Record 536 of Set 1 | srednekolymsk\n",
      "Processing Record 537 of Set 1 | humberto de campos\n",
      "Processing Record 538 of Set 1 | chicama\n",
      "Processing Record 539 of Set 1 | belyy yar\n",
      "Processing Record 540 of Set 1 | umm kaddadah\n",
      "Processing Record 541 of Set 1 | magaria\n",
      "Processing Record 542 of Set 1 | krechevitsy\n",
      "Processing Record 543 of Set 1 | yushala\n",
      "City not found in API | sumbawa\n",
      "City not found in API | cumaribo\n",
      "Processing Record 544 of Set 1 | mayo\n",
      "Processing Record 545 of Set 1 | adre\n"
     ]
    },
    {
     "name": "stdout",
     "output_type": "stream",
     "text": [
      "Processing Record 546 of Set 1 | sorland\n",
      "Processing Record 547 of Set 1 | klyuchi\n",
      "Processing Record 548 of Set 1 | oudtshoorn\n",
      "Processing Record 549 of Set 1 | ketchikan\n",
      "Processing Record 550 of Set 1 | colima\n",
      "Processing Record 551 of Set 1 | la orilla\n",
      "Processing Record 552 of Set 1 | kars\n",
      "Processing Record 553 of Set 1 | synya\n",
      "Processing Record 554 of Set 1 | uruzgan\n",
      "Processing Record 555 of Set 1 | fukue\n",
      "Processing Record 556 of Set 1 | kutum\n",
      "Processing Record 557 of Set 1 | avera\n",
      "Processing Record 558 of Set 1 | karachi\n",
      "Processing Record 559 of Set 1 | abu zabad\n",
      "Processing Record 560 of Set 1 | matagami\n",
      "Processing Record 561 of Set 1 | punta alta\n",
      "Processing Record 562 of Set 1 | rocha\n",
      "Processing Record 563 of Set 1 | port angeles\n",
      "Processing Record 564 of Set 1 | kiomboi\n",
      "Processing Record 565 of Set 1 | puerto del rosario\n",
      "Processing Record 566 of Set 1 | amga\n",
      "Processing Record 567 of Set 1 | salalah\n",
      "Processing Record 568 of Set 1 | santa maria\n",
      "Processing Record 569 of Set 1 | aguimes\n"
     ]
    }
   ],
   "source": [
    "url = \"http://api.openweathermap.org/data/2.5/weather?\"\n",
    "url = url + \"appid=\" + weather_api_key + \"&units=imperial&q=\"\n",
    "\n",
    "print(f'Beginning Data Retrieval:')\n",
    "\n",
    "print(f'-----------------------------')\n",
    "\n",
    "lat = []\n",
    "lon = []\n",
    "max_temp = []\n",
    "wind = []\n",
    "humidity = []\n",
    "cloud = []\n",
    "country = []\n",
    "date = []\n",
    "found_cities = []\n",
    "city_count = 1\n",
    "\n",
    "#Processing Record 1 of Set 1 | butaritari\n",
    "\n",
    "for city in cities:\n",
    "    responses = requests.get(url+city).json()\n",
    "    try:\n",
    "        lat.append(responses['coord']['lat'])\n",
    "        lon.append(responses['coord']['lon'])\n",
    "        max_temp.append(responses['main']['temp_max'])\n",
    "        wind.append(responses['wind']['speed'])\n",
    "        humidity.append(responses['main']['humidity'])\n",
    "        cloud.append(responses['clouds']['all'])\n",
    "        country.append(responses['sys']['country'])\n",
    "        date.append(responses['dt'])\n",
    "        found_cities.append(city)\n",
    "        print(f\"Processing Record {city_count} of Set 1 | {city}\")\n",
    "        city_count = city_count + 1\n",
    "    except:\n",
    "        print(f'City not found in API | {city}')\n",
    "\n"
   ]
  },
  {
   "cell_type": "markdown",
   "metadata": {},
   "source": [
    "### Convert Raw Data to DataFrame\n",
    "* Export the city data into a .csv.\n",
    "* Display the DataFrame"
   ]
  },
  {
   "cell_type": "code",
   "execution_count": 39,
   "metadata": {},
   "outputs": [
    {
     "data": {
      "text/html": [
       "<div>\n",
       "<style scoped>\n",
       "    .dataframe tbody tr th:only-of-type {\n",
       "        vertical-align: middle;\n",
       "    }\n",
       "\n",
       "    .dataframe tbody tr th {\n",
       "        vertical-align: top;\n",
       "    }\n",
       "\n",
       "    .dataframe thead th {\n",
       "        text-align: right;\n",
       "    }\n",
       "</style>\n",
       "<table border=\"1\" class=\"dataframe\">\n",
       "  <thead>\n",
       "    <tr style=\"text-align: right;\">\n",
       "      <th></th>\n",
       "      <th>City</th>\n",
       "      <th>Latitude</th>\n",
       "      <th>Longitute</th>\n",
       "      <th>Max Temp</th>\n",
       "      <th>Humidity</th>\n",
       "      <th>Cloudiness</th>\n",
       "      <th>Wind Speed</th>\n",
       "      <th>Country</th>\n",
       "      <th>Date</th>\n",
       "    </tr>\n",
       "  </thead>\n",
       "  <tbody>\n",
       "    <tr>\n",
       "      <th>0</th>\n",
       "      <td>puerto ayora</td>\n",
       "      <td>-0.74</td>\n",
       "      <td>-90.35</td>\n",
       "      <td>82.40</td>\n",
       "      <td>61</td>\n",
       "      <td>0</td>\n",
       "      <td>16.11</td>\n",
       "      <td>EC</td>\n",
       "      <td>1607814699</td>\n",
       "    </tr>\n",
       "    <tr>\n",
       "      <th>1</th>\n",
       "      <td>poum</td>\n",
       "      <td>-20.23</td>\n",
       "      <td>164.02</td>\n",
       "      <td>80.69</td>\n",
       "      <td>77</td>\n",
       "      <td>63</td>\n",
       "      <td>25.70</td>\n",
       "      <td>NC</td>\n",
       "      <td>1607814699</td>\n",
       "    </tr>\n",
       "    <tr>\n",
       "      <th>2</th>\n",
       "      <td>sola</td>\n",
       "      <td>-13.88</td>\n",
       "      <td>167.55</td>\n",
       "      <td>81.64</td>\n",
       "      <td>83</td>\n",
       "      <td>86</td>\n",
       "      <td>13.51</td>\n",
       "      <td>VU</td>\n",
       "      <td>1607814699</td>\n",
       "    </tr>\n",
       "    <tr>\n",
       "      <th>3</th>\n",
       "      <td>narsaq</td>\n",
       "      <td>60.92</td>\n",
       "      <td>-46.05</td>\n",
       "      <td>27.79</td>\n",
       "      <td>88</td>\n",
       "      <td>100</td>\n",
       "      <td>3.40</td>\n",
       "      <td>GL</td>\n",
       "      <td>1607814699</td>\n",
       "    </tr>\n",
       "    <tr>\n",
       "      <th>4</th>\n",
       "      <td>butaritari</td>\n",
       "      <td>3.07</td>\n",
       "      <td>172.79</td>\n",
       "      <td>80.44</td>\n",
       "      <td>78</td>\n",
       "      <td>94</td>\n",
       "      <td>13.06</td>\n",
       "      <td>KI</td>\n",
       "      <td>1607814699</td>\n",
       "    </tr>\n",
       "    <tr>\n",
       "      <th>...</th>\n",
       "      <td>...</td>\n",
       "      <td>...</td>\n",
       "      <td>...</td>\n",
       "      <td>...</td>\n",
       "      <td>...</td>\n",
       "      <td>...</td>\n",
       "      <td>...</td>\n",
       "      <td>...</td>\n",
       "      <td>...</td>\n",
       "    </tr>\n",
       "    <tr>\n",
       "      <th>564</th>\n",
       "      <td>puerto del rosario</td>\n",
       "      <td>28.50</td>\n",
       "      <td>-13.86</td>\n",
       "      <td>66.20</td>\n",
       "      <td>68</td>\n",
       "      <td>75</td>\n",
       "      <td>9.17</td>\n",
       "      <td>ES</td>\n",
       "      <td>1607814747</td>\n",
       "    </tr>\n",
       "    <tr>\n",
       "      <th>565</th>\n",
       "      <td>amga</td>\n",
       "      <td>60.90</td>\n",
       "      <td>131.96</td>\n",
       "      <td>-43.49</td>\n",
       "      <td>78</td>\n",
       "      <td>86</td>\n",
       "      <td>1.19</td>\n",
       "      <td>RU</td>\n",
       "      <td>1607814747</td>\n",
       "    </tr>\n",
       "    <tr>\n",
       "      <th>566</th>\n",
       "      <td>salalah</td>\n",
       "      <td>17.02</td>\n",
       "      <td>54.09</td>\n",
       "      <td>69.80</td>\n",
       "      <td>32</td>\n",
       "      <td>0</td>\n",
       "      <td>8.05</td>\n",
       "      <td>OM</td>\n",
       "      <td>1607814747</td>\n",
       "    </tr>\n",
       "    <tr>\n",
       "      <th>567</th>\n",
       "      <td>santa maria</td>\n",
       "      <td>-29.68</td>\n",
       "      <td>-53.81</td>\n",
       "      <td>80.60</td>\n",
       "      <td>69</td>\n",
       "      <td>20</td>\n",
       "      <td>4.70</td>\n",
       "      <td>BR</td>\n",
       "      <td>1607814747</td>\n",
       "    </tr>\n",
       "    <tr>\n",
       "      <th>568</th>\n",
       "      <td>aguimes</td>\n",
       "      <td>27.91</td>\n",
       "      <td>-15.45</td>\n",
       "      <td>64.40</td>\n",
       "      <td>88</td>\n",
       "      <td>75</td>\n",
       "      <td>11.41</td>\n",
       "      <td>ES</td>\n",
       "      <td>1607814747</td>\n",
       "    </tr>\n",
       "  </tbody>\n",
       "</table>\n",
       "<p>569 rows × 9 columns</p>\n",
       "</div>"
      ],
      "text/plain": [
       "                   City  Latitude  Longitute  Max Temp  Humidity  Cloudiness  \\\n",
       "0          puerto ayora     -0.74     -90.35     82.40        61           0   \n",
       "1                  poum    -20.23     164.02     80.69        77          63   \n",
       "2                  sola    -13.88     167.55     81.64        83          86   \n",
       "3                narsaq     60.92     -46.05     27.79        88         100   \n",
       "4            butaritari      3.07     172.79     80.44        78          94   \n",
       "..                  ...       ...        ...       ...       ...         ...   \n",
       "564  puerto del rosario     28.50     -13.86     66.20        68          75   \n",
       "565                amga     60.90     131.96    -43.49        78          86   \n",
       "566             salalah     17.02      54.09     69.80        32           0   \n",
       "567         santa maria    -29.68     -53.81     80.60        69          20   \n",
       "568             aguimes     27.91     -15.45     64.40        88          75   \n",
       "\n",
       "     Wind Speed Country        Date  \n",
       "0         16.11      EC  1607814699  \n",
       "1         25.70      NC  1607814699  \n",
       "2         13.51      VU  1607814699  \n",
       "3          3.40      GL  1607814699  \n",
       "4         13.06      KI  1607814699  \n",
       "..          ...     ...         ...  \n",
       "564        9.17      ES  1607814747  \n",
       "565        1.19      RU  1607814747  \n",
       "566        8.05      OM  1607814747  \n",
       "567        4.70      BR  1607814747  \n",
       "568       11.41      ES  1607814747  \n",
       "\n",
       "[569 rows x 9 columns]"
      ]
     },
     "execution_count": 39,
     "metadata": {},
     "output_type": "execute_result"
    }
   ],
   "source": [
    "weather_df = pd.DataFrame({\"City\":found_cities,\n",
    "                          \"Latitude\":lat,\n",
    "                          \"Longitute\":lon,\n",
    "                          \"Max Temp\":max_temp,\n",
    "                          \"Humidity\":humidity,\n",
    "                          \"Cloudiness\":cloud,\n",
    "                          \"Wind Speed\":wind,\n",
    "                          \"Country\":country,\n",
    "                          \"Date\":date})\n",
    "weather_df.to_csv(output_data_file,index = False, header=True)\n",
    "weather_df"
   ]
  },
  {
   "cell_type": "code",
   "execution_count": 40,
   "metadata": {},
   "outputs": [
    {
     "data": {
      "text/html": [
       "<div>\n",
       "<style scoped>\n",
       "    .dataframe tbody tr th:only-of-type {\n",
       "        vertical-align: middle;\n",
       "    }\n",
       "\n",
       "    .dataframe tbody tr th {\n",
       "        vertical-align: top;\n",
       "    }\n",
       "\n",
       "    .dataframe thead th {\n",
       "        text-align: right;\n",
       "    }\n",
       "</style>\n",
       "<table border=\"1\" class=\"dataframe\">\n",
       "  <thead>\n",
       "    <tr style=\"text-align: right;\">\n",
       "      <th></th>\n",
       "      <th>City</th>\n",
       "      <th>Latitude</th>\n",
       "      <th>Longitute</th>\n",
       "      <th>Max Temp</th>\n",
       "      <th>Humidity</th>\n",
       "      <th>Cloudiness</th>\n",
       "      <th>Wind Speed</th>\n",
       "      <th>Country</th>\n",
       "      <th>Date</th>\n",
       "    </tr>\n",
       "  </thead>\n",
       "  <tbody>\n",
       "    <tr>\n",
       "      <th>count</th>\n",
       "      <td>569</td>\n",
       "      <td>569.000000</td>\n",
       "      <td>569.000000</td>\n",
       "      <td>569.000000</td>\n",
       "      <td>569.000000</td>\n",
       "      <td>569.000000</td>\n",
       "      <td>569.000000</td>\n",
       "      <td>569</td>\n",
       "      <td>5.690000e+02</td>\n",
       "    </tr>\n",
       "    <tr>\n",
       "      <th>unique</th>\n",
       "      <td>569</td>\n",
       "      <td>NaN</td>\n",
       "      <td>NaN</td>\n",
       "      <td>NaN</td>\n",
       "      <td>NaN</td>\n",
       "      <td>NaN</td>\n",
       "      <td>NaN</td>\n",
       "      <td>120</td>\n",
       "      <td>NaN</td>\n",
       "    </tr>\n",
       "    <tr>\n",
       "      <th>top</th>\n",
       "      <td>ligayan</td>\n",
       "      <td>NaN</td>\n",
       "      <td>NaN</td>\n",
       "      <td>NaN</td>\n",
       "      <td>NaN</td>\n",
       "      <td>NaN</td>\n",
       "      <td>NaN</td>\n",
       "      <td>RU</td>\n",
       "      <td>NaN</td>\n",
       "    </tr>\n",
       "    <tr>\n",
       "      <th>freq</th>\n",
       "      <td>1</td>\n",
       "      <td>NaN</td>\n",
       "      <td>NaN</td>\n",
       "      <td>NaN</td>\n",
       "      <td>NaN</td>\n",
       "      <td>NaN</td>\n",
       "      <td>NaN</td>\n",
       "      <td>69</td>\n",
       "      <td>NaN</td>\n",
       "    </tr>\n",
       "    <tr>\n",
       "      <th>mean</th>\n",
       "      <td>NaN</td>\n",
       "      <td>20.067030</td>\n",
       "      <td>12.556309</td>\n",
       "      <td>51.011160</td>\n",
       "      <td>75.288225</td>\n",
       "      <td>56.003515</td>\n",
       "      <td>8.496977</td>\n",
       "      <td>NaN</td>\n",
       "      <td>1.607815e+09</td>\n",
       "    </tr>\n",
       "    <tr>\n",
       "      <th>std</th>\n",
       "      <td>NaN</td>\n",
       "      <td>33.236479</td>\n",
       "      <td>89.988230</td>\n",
       "      <td>30.069907</td>\n",
       "      <td>17.841178</td>\n",
       "      <td>38.509236</td>\n",
       "      <td>6.415224</td>\n",
       "      <td>NaN</td>\n",
       "      <td>7.147570e+01</td>\n",
       "    </tr>\n",
       "    <tr>\n",
       "      <th>min</th>\n",
       "      <td>NaN</td>\n",
       "      <td>-54.800000</td>\n",
       "      <td>-179.170000</td>\n",
       "      <td>-48.460000</td>\n",
       "      <td>17.000000</td>\n",
       "      <td>0.000000</td>\n",
       "      <td>0.270000</td>\n",
       "      <td>NaN</td>\n",
       "      <td>1.607814e+09</td>\n",
       "    </tr>\n",
       "    <tr>\n",
       "      <th>25%</th>\n",
       "      <td>NaN</td>\n",
       "      <td>-7.020000</td>\n",
       "      <td>-66.980000</td>\n",
       "      <td>32.000000</td>\n",
       "      <td>67.000000</td>\n",
       "      <td>20.000000</td>\n",
       "      <td>3.360000</td>\n",
       "      <td>NaN</td>\n",
       "      <td>1.607815e+09</td>\n",
       "    </tr>\n",
       "    <tr>\n",
       "      <th>50%</th>\n",
       "      <td>NaN</td>\n",
       "      <td>23.270000</td>\n",
       "      <td>17.940000</td>\n",
       "      <td>61.000000</td>\n",
       "      <td>78.000000</td>\n",
       "      <td>73.000000</td>\n",
       "      <td>6.930000</td>\n",
       "      <td>NaN</td>\n",
       "      <td>1.607815e+09</td>\n",
       "    </tr>\n",
       "    <tr>\n",
       "      <th>75%</th>\n",
       "      <td>NaN</td>\n",
       "      <td>49.590000</td>\n",
       "      <td>87.200000</td>\n",
       "      <td>75.200000</td>\n",
       "      <td>88.000000</td>\n",
       "      <td>92.000000</td>\n",
       "      <td>11.410000</td>\n",
       "      <td>NaN</td>\n",
       "      <td>1.607815e+09</td>\n",
       "    </tr>\n",
       "    <tr>\n",
       "      <th>max</th>\n",
       "      <td>NaN</td>\n",
       "      <td>78.220000</td>\n",
       "      <td>178.420000</td>\n",
       "      <td>91.400000</td>\n",
       "      <td>100.000000</td>\n",
       "      <td>100.000000</td>\n",
       "      <td>40.260000</td>\n",
       "      <td>NaN</td>\n",
       "      <td>1.607815e+09</td>\n",
       "    </tr>\n",
       "  </tbody>\n",
       "</table>\n",
       "</div>"
      ],
      "text/plain": [
       "           City    Latitude   Longitute    Max Temp    Humidity  Cloudiness  \\\n",
       "count       569  569.000000  569.000000  569.000000  569.000000  569.000000   \n",
       "unique      569         NaN         NaN         NaN         NaN         NaN   \n",
       "top     ligayan         NaN         NaN         NaN         NaN         NaN   \n",
       "freq          1         NaN         NaN         NaN         NaN         NaN   \n",
       "mean        NaN   20.067030   12.556309   51.011160   75.288225   56.003515   \n",
       "std         NaN   33.236479   89.988230   30.069907   17.841178   38.509236   \n",
       "min         NaN  -54.800000 -179.170000  -48.460000   17.000000    0.000000   \n",
       "25%         NaN   -7.020000  -66.980000   32.000000   67.000000   20.000000   \n",
       "50%         NaN   23.270000   17.940000   61.000000   78.000000   73.000000   \n",
       "75%         NaN   49.590000   87.200000   75.200000   88.000000   92.000000   \n",
       "max         NaN   78.220000  178.420000   91.400000  100.000000  100.000000   \n",
       "\n",
       "        Wind Speed Country          Date  \n",
       "count   569.000000     569  5.690000e+02  \n",
       "unique         NaN     120           NaN  \n",
       "top            NaN      RU           NaN  \n",
       "freq           NaN      69           NaN  \n",
       "mean      8.496977     NaN  1.607815e+09  \n",
       "std       6.415224     NaN  7.147570e+01  \n",
       "min       0.270000     NaN  1.607814e+09  \n",
       "25%       3.360000     NaN  1.607815e+09  \n",
       "50%       6.930000     NaN  1.607815e+09  \n",
       "75%      11.410000     NaN  1.607815e+09  \n",
       "max      40.260000     NaN  1.607815e+09  "
      ]
     },
     "execution_count": 40,
     "metadata": {},
     "output_type": "execute_result"
    }
   ],
   "source": [
    "weather_df.describe(include='all')"
   ]
  },
  {
   "cell_type": "markdown",
   "metadata": {},
   "source": [
    "## Inspect the data and remove the cities where the humidity > 100%.\n",
    "----\n",
    "Skip this step if there are no cities that have humidity > 100%. "
   ]
  },
  {
   "cell_type": "code",
   "execution_count": 41,
   "metadata": {},
   "outputs": [
    {
     "data": {
      "text/plain": [
       "count    569.000000\n",
       "mean      75.288225\n",
       "std       17.841178\n",
       "min       17.000000\n",
       "25%       67.000000\n",
       "50%       78.000000\n",
       "75%       88.000000\n",
       "max      100.000000\n",
       "Name: Humidity, dtype: float64"
      ]
     },
     "execution_count": 41,
     "metadata": {},
     "output_type": "execute_result"
    }
   ],
   "source": [
    "#max humidity is 100 so no need to remove, however I will write code as a catch-all\n",
    "\n",
    "weather_df = weather_df.loc[weather_df[\"Humidity\"] <= 100]\n",
    "\n",
    "#check max humidity\n",
    "\n",
    "weather_df[\"Humidity\"].describe()"
   ]
  },
  {
   "cell_type": "code",
   "execution_count": 17,
   "metadata": {},
   "outputs": [
    {
     "data": {
      "text/plain": [
       "Int64Index([], dtype='int64')"
      ]
     },
     "execution_count": 17,
     "metadata": {},
     "output_type": "execute_result"
    }
   ],
   "source": [
    "#  Get the indices of cities that have humidity over 100%.\n"
   ]
  },
  {
   "cell_type": "code",
   "execution_count": 42,
   "metadata": {},
   "outputs": [
    {
     "data": {
      "text/html": [
       "<div>\n",
       "<style scoped>\n",
       "    .dataframe tbody tr th:only-of-type {\n",
       "        vertical-align: middle;\n",
       "    }\n",
       "\n",
       "    .dataframe tbody tr th {\n",
       "        vertical-align: top;\n",
       "    }\n",
       "\n",
       "    .dataframe thead th {\n",
       "        text-align: right;\n",
       "    }\n",
       "</style>\n",
       "<table border=\"1\" class=\"dataframe\">\n",
       "  <thead>\n",
       "    <tr style=\"text-align: right;\">\n",
       "      <th></th>\n",
       "      <th>City</th>\n",
       "      <th>Latitude</th>\n",
       "      <th>Longitute</th>\n",
       "      <th>Max Temp</th>\n",
       "      <th>Humidity</th>\n",
       "      <th>Cloudiness</th>\n",
       "      <th>Wind Speed</th>\n",
       "      <th>Country</th>\n",
       "      <th>Date</th>\n",
       "    </tr>\n",
       "  </thead>\n",
       "  <tbody>\n",
       "    <tr>\n",
       "      <th>0</th>\n",
       "      <td>puerto ayora</td>\n",
       "      <td>-0.74</td>\n",
       "      <td>-90.35</td>\n",
       "      <td>82.40</td>\n",
       "      <td>61</td>\n",
       "      <td>0</td>\n",
       "      <td>16.11</td>\n",
       "      <td>EC</td>\n",
       "      <td>1607814699</td>\n",
       "    </tr>\n",
       "    <tr>\n",
       "      <th>1</th>\n",
       "      <td>poum</td>\n",
       "      <td>-20.23</td>\n",
       "      <td>164.02</td>\n",
       "      <td>80.69</td>\n",
       "      <td>77</td>\n",
       "      <td>63</td>\n",
       "      <td>25.70</td>\n",
       "      <td>NC</td>\n",
       "      <td>1607814699</td>\n",
       "    </tr>\n",
       "    <tr>\n",
       "      <th>2</th>\n",
       "      <td>sola</td>\n",
       "      <td>-13.88</td>\n",
       "      <td>167.55</td>\n",
       "      <td>81.64</td>\n",
       "      <td>83</td>\n",
       "      <td>86</td>\n",
       "      <td>13.51</td>\n",
       "      <td>VU</td>\n",
       "      <td>1607814699</td>\n",
       "    </tr>\n",
       "    <tr>\n",
       "      <th>3</th>\n",
       "      <td>narsaq</td>\n",
       "      <td>60.92</td>\n",
       "      <td>-46.05</td>\n",
       "      <td>27.79</td>\n",
       "      <td>88</td>\n",
       "      <td>100</td>\n",
       "      <td>3.40</td>\n",
       "      <td>GL</td>\n",
       "      <td>1607814699</td>\n",
       "    </tr>\n",
       "    <tr>\n",
       "      <th>4</th>\n",
       "      <td>butaritari</td>\n",
       "      <td>3.07</td>\n",
       "      <td>172.79</td>\n",
       "      <td>80.44</td>\n",
       "      <td>78</td>\n",
       "      <td>94</td>\n",
       "      <td>13.06</td>\n",
       "      <td>KI</td>\n",
       "      <td>1607814699</td>\n",
       "    </tr>\n",
       "  </tbody>\n",
       "</table>\n",
       "</div>"
      ],
      "text/plain": [
       "           City  Latitude  Longitute  Max Temp  Humidity  Cloudiness  \\\n",
       "0  puerto ayora     -0.74     -90.35     82.40        61           0   \n",
       "1          poum    -20.23     164.02     80.69        77          63   \n",
       "2          sola    -13.88     167.55     81.64        83          86   \n",
       "3        narsaq     60.92     -46.05     27.79        88         100   \n",
       "4    butaritari      3.07     172.79     80.44        78          94   \n",
       "\n",
       "   Wind Speed Country        Date  \n",
       "0       16.11      EC  1607814699  \n",
       "1       25.70      NC  1607814699  \n",
       "2       13.51      VU  1607814699  \n",
       "3        3.40      GL  1607814699  \n",
       "4       13.06      KI  1607814699  "
      ]
     },
     "execution_count": 42,
     "metadata": {},
     "output_type": "execute_result"
    }
   ],
   "source": [
    "# Make a new DataFrame equal to the city data to drop all humidity outliers by index.\n",
    "# Passing \"inplace=False\" will make a copy of the city_data DataFrame, which we call \"clean_city_data\".\n",
    "weather_df.head()"
   ]
  },
  {
   "cell_type": "code",
   "execution_count": null,
   "metadata": {},
   "outputs": [],
   "source": [
    "\n"
   ]
  },
  {
   "cell_type": "markdown",
   "metadata": {},
   "source": [
    "## Plotting the Data\n",
    "* Use proper labeling of the plots using plot titles (including date of analysis) and axes labels.\n",
    "* Save the plotted figures as .pngs."
   ]
  },
  {
   "cell_type": "markdown",
   "metadata": {},
   "source": [
    "## Latitude vs. Temperature Plot"
   ]
  },
  {
   "cell_type": "code",
   "execution_count": 43,
   "metadata": {
    "scrolled": true
   },
   "outputs": [
    {
     "data": {
      "image/png": "[encoded data removed]",
      "text/plain": [
       "<Figure size 432x288 with 1 Axes>"
      ]
     },
     "metadata": {
      "needs_background": "light"
     },
     "output_type": "display_data"
    }
   ],
   "source": [
    "lat_vs_temp = plt.scatter(weather_df[\"Latitude\"],weather_df[\"Max Temp\"],edgecolors='black')\n",
    "plt.xlabel('Latitude')\n",
    "plt.ylabel('Max Temperature (F)')\n",
    "plt.title('City Latitude vs. Max Temperature (12/12/2020)')\n",
    "plt.grid(color='black', linestyle='-', linewidth=1,alpha=0.2)\n",
    "plt.show()"
   ]
  },
  {
   "cell_type": "markdown",
   "metadata": {},
   "source": [
    "## Latitude vs. Humidity Plot"
   ]
  },
  {
   "cell_type": "code",
   "execution_count": 44,
   "metadata": {},
   "outputs": [
    {
     "data": {
      "image/png": "[encoded data removed]",
      "text/plain": [
       "<Figure size 432x288 with 1 Axes>"
      ]
     },
     "metadata": {
      "needs_background": "light"
     },
     "output_type": "display_data"
    }
   ],
   "source": [
    "lat_vs_humidity = plt.scatter(weather_df[\"Latitude\"],weather_df[\"Humidity\"],edgecolors='black')\n",
    "plt.xlabel('Latitude')\n",
    "plt.ylabel('Humidity (%)')\n",
    "plt.title('City Latitude vs. Humidity (12/12/2020)')\n",
    "plt.grid(color='black', linestyle='-', linewidth=1,alpha=0.2)\n",
    "plt.show()"
   ]
  },
  {
   "cell_type": "markdown",
   "metadata": {},
   "source": [
    "## Latitude vs. Cloudiness Plot"
   ]
  },
  {
   "cell_type": "code",
   "execution_count": 45,
   "metadata": {},
   "outputs": [
    {
     "data": {
      "image/png": "[encoded data removed]",
      "text/plain": [
       "<Figure size 432x288 with 1 Axes>"
      ]
     },
     "metadata": {
      "needs_background": "light"
     },
     "output_type": "display_data"
    }
   ],
   "source": [
    "lat_vs_cloudiness = plt.scatter(weather_df[\"Latitude\"],weather_df[\"Cloudiness\"],edgecolors='black')\n",
    "plt.xlabel('Latitude')\n",
    "plt.ylabel('Cloudiness (%)')\n",
    "plt.title('City Latitude vs. Cloudiness (12/12/2020)')\n",
    "plt.grid(color='black', linestyle='-', linewidth=1,alpha=0.2)\n",
    "plt.show()"
   ]
  },
  {
   "cell_type": "markdown",
   "metadata": {},
   "source": [
    "## Latitude vs. Wind Speed Plot"
   ]
  },
  {
   "cell_type": "code",
   "execution_count": 46,
   "metadata": {},
   "outputs": [
    {
     "data": {
      "image/png": "[encoded data removed]",
      "text/plain": [
       "<Figure size 432x288 with 1 Axes>"
      ]
     },
     "metadata": {
      "needs_background": "light"
     },
     "output_type": "display_data"
    }
   ],
   "source": [
    "lat_vs_cloudiness = plt.scatter(weather_df[\"Latitude\"],weather_df[\"Wind Speed\"],edgecolors='black')\n",
    "plt.xlabel('Latitude')\n",
    "plt.ylabel('Wind Speed (mph)')\n",
    "plt.title('City Latitude vs. Wind Speed (12/12/2020)')\n",
    "plt.grid(color='black', linestyle='-', linewidth=1,alpha=0.2)\n",
    "plt.show()"
   ]
  },
  {
   "cell_type": "markdown",
   "metadata": {},
   "source": [
    "## Linear Regression"
   ]
  },
  {
   "cell_type": "code",
   "execution_count": 47,
   "metadata": {},
   "outputs": [],
   "source": [
    "northern_df = weather_df.loc[weather_df[\"Latitude\"] >= 0]\n",
    "southern_df = weather_df.loc[weather_df[\"Latitude\"] < 0]"
   ]
  },
  {
   "cell_type": "markdown",
   "metadata": {},
   "source": [
    "####  Northern Hemisphere - Max Temp vs. Latitude Linear Regression"
   ]
  },
  {
   "cell_type": "code",
   "execution_count": 63,
   "metadata": {},
   "outputs": [
    {
     "name": "stdout",
     "output_type": "stream",
     "text": [
      "The r-value is: -0.83\n"
     ]
    },
    {
     "data": {
      "image/png": "[encoded data removed]",
      "text/plain": [
       "<Figure size 432x288 with 1 Axes>"
      ]
     },
     "metadata": {
      "needs_background": "light"
     },
     "output_type": "display_data"
    }
   ],
   "source": [
    "corr_north_temp = st.pearsonr(northern_df[\"Latitude\"],northern_df[\"Max Temp\"])\n",
    "print(f\"The r-value is: {round(corr_north_temp[0],2)}\")\n",
    "\n",
    "x_values = northern_df[\"Latitude\"]\n",
    "y_values = northern_df[\"Max Temp\"]\n",
    "(slope, intercept, rvalue, pvalue, stderr) = st.linregress(x_values, y_values)\n",
    "regress_values = x_values * slope + intercept\n",
    "line_eq = \"y = \" + str(round(slope,2)) + \"x + \" + str(round(intercept,2))\n",
    "plt.scatter(x_values,y_values)\n",
    "plt.plot(x_values,regress_values,\"r-\")\n",
    "plt.annotate(line_eq,(0,0),fontsize=15,color=\"red\")\n",
    "plt.xlabel('Latitude')\n",
    "plt.ylabel('Max Tmperature (F)')\n",
    "\n",
    "plt.show()"
   ]
  },
  {
   "cell_type": "markdown",
   "metadata": {},
   "source": [
    "####  Southern Hemisphere - Max Temp vs. Latitude Linear Regression"
   ]
  },
  {
   "cell_type": "code",
   "execution_count": 64,
   "metadata": {},
   "outputs": [
    {
     "name": "stdout",
     "output_type": "stream",
     "text": [
      "The r-value is: 0.54\n"
     ]
    },
    {
     "data": {
      "image/png": "[encoded data removed]",
      "text/plain": [
       "<Figure size 432x288 with 1 Axes>"
      ]
     },
     "metadata": {
      "needs_background": "light"
     },
     "output_type": "display_data"
    }
   ],
   "source": [
    "corr_south_temp = st.pearsonr(southern_df[\"Latitude\"],southern_df[\"Max Temp\"])\n",
    "print(f\"The r-value is: {round(corr_south_temp[0],2)}\")\n",
    "\n",
    "x_values = southern_df[\"Latitude\"]\n",
    "y_values = southern_df[\"Max Temp\"]\n",
    "(slope, intercept, rvalue, pvalue, stderr) = st.linregress(x_values, y_values)\n",
    "regress_values = x_values * slope + intercept\n",
    "line_eq = \"y = \" + str(round(slope,2)) + \"x + \" + str(round(intercept,2))\n",
    "plt.scatter(x_values,y_values)\n",
    "plt.plot(x_values,regress_values,\"r-\")\n",
    "plt.annotate(line_eq,(-25,52),fontsize=15,color=\"red\")\n",
    "plt.xlabel('Latitude')\n",
    "plt.ylabel('Max Tmperature (F)')\n",
    "\n",
    "plt.show()"
   ]
  },
  {
   "cell_type": "markdown",
   "metadata": {},
   "source": [
    "####  Northern Hemisphere - Humidity (%) vs. Latitude Linear Regression"
   ]
  },
  {
   "cell_type": "code",
   "execution_count": 65,
   "metadata": {},
   "outputs": [
    {
     "name": "stdout",
     "output_type": "stream",
     "text": [
      "The r-value is: 0.37\n"
     ]
    },
    {
     "data": {
      "image/png": "[encoded data removed]",
      "text/plain": [
       "<Figure size 432x288 with 1 Axes>"
      ]
     },
     "metadata": {
      "needs_background": "light"
     },
     "output_type": "display_data"
    }
   ],
   "source": [
    "corr_north_hum = st.pearsonr(northern_df[\"Latitude\"],northern_df[\"Humidity\"])\n",
    "print(f\"The r-value is: {round(corr_north_hum[0],2)}\")\n",
    "\n",
    "x_values = northern_df[\"Latitude\"]\n",
    "y_values = northern_df[\"Humidity\"]\n",
    "(slope, intercept, rvalue, pvalue, stderr) = st.linregress(x_values, y_values)\n",
    "regress_values = x_values * slope + intercept\n",
    "line_eq = \"y = \" + str(round(slope,2)) + \"x + \" + str(round(intercept,2))\n",
    "plt.scatter(x_values,y_values)\n",
    "plt.plot(x_values,regress_values,\"r-\")\n",
    "plt.annotate(line_eq,(40,20),fontsize=15,color=\"red\")\n",
    "plt.xlabel('Latitude')\n",
    "plt.ylabel('Humidity (%)')\n",
    "\n",
    "plt.show()"
   ]
  },
  {
   "cell_type": "markdown",
   "metadata": {},
   "source": [
    "####  Southern Hemisphere - Humidity (%) vs. Latitude Linear Regression"
   ]
  },
  {
   "cell_type": "code",
   "execution_count": 69,
   "metadata": {},
   "outputs": [
    {
     "name": "stdout",
     "output_type": "stream",
     "text": [
      "The r-value is: 0.35\n"
     ]
    },
    {
     "data": {
      "image/png": "[encoded data removed]",
      "text/plain": [
       "<Figure size 432x288 with 1 Axes>"
      ]
     },
     "metadata": {
      "needs_background": "light"
     },
     "output_type": "display_data"
    }
   ],
   "source": [
    "corr_south_hum = st.pearsonr(southern_df[\"Latitude\"],southern_df[\"Humidity\"])\n",
    "print(f\"The r-value is: {round(corr_south_hum[0],2)}\")\n",
    "\n",
    "x_values = southern_df[\"Latitude\"]\n",
    "y_values = southern_df[\"Humidity\"]\n",
    "(slope, intercept, rvalue, pvalue, stderr) = st.linregress(x_values, y_values)\n",
    "regress_values = x_values * slope + intercept\n",
    "line_eq = \"y = \" + str(round(slope,2)) + \"x + \" + str(round(intercept,2))\n",
    "plt.scatter(x_values,y_values)\n",
    "plt.plot(x_values,regress_values,\"r-\")\n",
    "plt.annotate(line_eq,(-25,26),fontsize=15,color=\"red\")\n",
    "plt.xlabel('Latitude')\n",
    "plt.ylabel('Humidity (%)')\n",
    "\n",
    "plt.show()"
   ]
  },
  {
   "cell_type": "markdown",
   "metadata": {},
   "source": [
    "####  Northern Hemisphere - Cloudiness (%) vs. Latitude Linear Regression"
   ]
  },
  {
   "cell_type": "code",
   "execution_count": 71,
   "metadata": {},
   "outputs": [
    {
     "name": "stdout",
     "output_type": "stream",
     "text": [
      "The r-value is: 0.35\n"
     ]
    },
    {
     "data": {
      "image/png": "[encoded data removed]",
      "text/plain": [
       "<Figure size 432x288 with 1 Axes>"
      ]
     },
     "metadata": {
      "needs_background": "light"
     },
     "output_type": "display_data"
    }
   ],
   "source": [
    "corr_north_cloud = st.pearsonr(northern_df[\"Latitude\"],northern_df[\"Cloudiness\"])\n",
    "print(f\"The r-value is: {round(corr_north_cloud[0],2)}\")\n",
    "\n",
    "x_values = northern_df[\"Latitude\"]\n",
    "y_values = northern_df[\"Cloudiness\"]\n",
    "(slope, intercept, rvalue, pvalue, stderr) = st.linregress(x_values, y_values)\n",
    "regress_values = x_values * slope + intercept\n",
    "line_eq = \"y = \" + str(round(slope,2)) + \"x + \" + str(round(intercept,2))\n",
    "plt.scatter(x_values,y_values)\n",
    "plt.plot(x_values,regress_values,\"r-\")\n",
    "plt.annotate(line_eq,(40,20),fontsize=15,color=\"red\")\n",
    "plt.xlabel('Latitude')\n",
    "plt.ylabel('Cloudiness (%)')\n",
    "\n",
    "plt.show()"
   ]
  },
  {
   "cell_type": "markdown",
   "metadata": {},
   "source": [
    "####  Southern Hemisphere - Cloudiness (%) vs. Latitude Linear Regression"
   ]
  },
  {
   "cell_type": "code",
   "execution_count": 72,
   "metadata": {},
   "outputs": [
    {
     "name": "stdout",
     "output_type": "stream",
     "text": [
      "The r-value is: 0.05\n"
     ]
    },
    {
     "data": {
      "image/png": "[encoded data removed]",
      "text/plain": [
       "<Figure size 432x288 with 1 Axes>"
      ]
     },
     "metadata": {
      "needs_background": "light"
     },
     "output_type": "display_data"
    }
   ],
   "source": [
    "corr_south_cloud = st.pearsonr(southern_df[\"Latitude\"],southern_df[\"Cloudiness\"])\n",
    "print(f\"The r-value is: {round(corr_south_cloud[0],2)}\")\n",
    "\n",
    "x_values = southern_df[\"Latitude\"]\n",
    "y_values = southern_df[\"Cloudiness\"]\n",
    "(slope, intercept, rvalue, pvalue, stderr) = st.linregress(x_values, y_values)\n",
    "regress_values = x_values * slope + intercept\n",
    "line_eq = \"y = \" + str(round(slope,2)) + \"x + \" + str(round(intercept,2))\n",
    "plt.scatter(x_values,y_values)\n",
    "plt.plot(x_values,regress_values,\"r-\")\n",
    "plt.annotate(line_eq,(-25,26),fontsize=15,color=\"red\")\n",
    "plt.xlabel('Latitude')\n",
    "plt.ylabel('Cloudiness (%)')\n",
    "\n",
    "plt.show()"
   ]
  },
  {
   "cell_type": "markdown",
   "metadata": {},
   "source": [
    "####  Northern Hemisphere - Wind Speed (mph) vs. Latitude Linear Regression"
   ]
  },
  {
   "cell_type": "code",
   "execution_count": 31,
   "metadata": {},
   "outputs": [
    {
     "name": "stdout",
     "output_type": "stream",
     "text": [
      "The r-value is: 0.04019723576144484\n"
     ]
    },
    {
     "data": {
      "image/png": "[encoded data removed]",
      "text/plain": [
       "<Figure size 432x288 with 1 Axes>"
      ]
     },
     "metadata": {
      "needs_background": "light"
     },
     "output_type": "display_data"
    }
   ],
   "source": [
    "corr_north_cloud = st.pearsonr(northern_df[\"Latitude\"],northern_df[\"Cloudiness\"])\n",
    "print(f\"The r-value is: {round(corr_north_cloud[0],2)}\")\n",
    "\n",
    "x_values = northern_df[\"Latitude\"]\n",
    "y_values = northern_df[\"Cloudiness\"]\n",
    "(slope, intercept, rvalue, pvalue, stderr) = st.linregress(x_values, y_values)\n",
    "regress_values = x_values * slope + intercept\n",
    "line_eq = \"y = \" + str(round(slope,2)) + \"x + \" + str(round(intercept,2))\n",
    "plt.scatter(x_values,y_values)\n",
    "plt.plot(x_values,regress_values,\"r-\")\n",
    "plt.annotate(line_eq,(40,20),fontsize=15,color=\"red\")\n",
    "plt.xlabel('Latitude')\n",
    "plt.ylabel('Cloudiness (%)')\n",
    "\n",
    "plt.show()"
   ]
  },
  {
   "cell_type": "markdown",
   "metadata": {},
   "source": [
    "####  Southern Hemisphere - Wind Speed (mph) vs. Latitude Linear Regression"
   ]
  },
  {
   "cell_type": "code",
   "execution_count": 32,
   "metadata": {},
   "outputs": [
    {
     "name": "stdout",
     "output_type": "stream",
     "text": [
      "The r-value is: 0.017128274759839232\n"
     ]
    },
    {
     "data": {
      "image/png": "[encoded data removed]",
      "text/plain": [
       "<Figure size 432x288 with 1 Axes>"
      ]
     },
     "metadata": {
      "needs_background": "light"
     },
     "output_type": "display_data"
    }
   ],
   "source": []
  },
  {
   "cell_type": "code",
   "execution_count": null,
   "metadata": {},
   "outputs": [],
   "source": []
  }
 ],
 "metadata": {
  "anaconda-cloud": {},
  "kernel_info": {
   "name": "python3"
  },
  "kernelspec": {
   "display_name": "Python (PythonData) ",
   "language": "python",
   "name": "myenv"
  },
  "language_info": {
   "codemirror_mode": {
    "name": "ipython",
    "version": 3
   },
   "file_extension": ".py",
   "mimetype": "text/x-python",
   "name": "python",
   "nbconvert_exporter": "python",
   "pygments_lexer": "ipython3",
   "version": "3.8.5"
  },
  "latex_envs": {
   "LaTeX_envs_menu_present": true,
   "autoclose": false,
   "autocomplete": true,
   "bibliofile": "biblio.bib",
   "cite_by": "apalike",
   "current_citInitial": 1,
   "eqLabelWithNumbers": true,
   "eqNumInitial": 1,
   "hotkeys": {
    "equation": "Ctrl-E",
    "itemize": "Ctrl-I"
   },
   "labels_anchors": false,
   "latex_user_defs": false,
   "report_style_numbering": false,
   "user_envs_cfg": false
  },
  "nteract": {
   "version": "0.12.3"
  }
 },
 "nbformat": 4,
 "nbformat_minor": 2
}
