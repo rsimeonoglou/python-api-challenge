{
 "cells": [
  {
   "cell_type": "markdown",
   "metadata": {},
   "source": [
    "# WeatherPy\n",
    "----\n",
    "\n",
    "#### Note\n",
    "* Instructions have been included for each segment. You do not have to follow them exactly, but they are included to help you think through the steps."
   ]
  },
  {
   "cell_type": "code",
   "execution_count": 6,
   "metadata": {
    "scrolled": true
   },
   "outputs": [],
   "source": [
    "# Dependencies and Setup\n",
    "import matplotlib.pyplot as plt\n",
    "import pandas as pd\n",
    "import numpy as np\n",
    "import requests\n",
    "import time\n",
    "import scipy.stats as st\n",
    "\n",
    "# Import API key\n",
    "from api_keys import weather_api_key\n",
    "\n",
    "# Incorporated citipy to determine city based on latitude and longitude\n",
    "from citipy import citipy\n",
    "\n",
    "# Output File (CSV)\n",
    "output_data_file = \"../output_data/cities.csv\"\n",
    "\n",
    "# Range of latitudes and longitudes\n",
    "lat_range = (-90, 90)\n",
    "lng_range = (-180, 180)"
   ]
  },
  {
   "cell_type": "markdown",
   "metadata": {},
   "source": [
    "## Generate Cities List"
   ]
  },
  {
   "cell_type": "code",
   "execution_count": 7,
   "metadata": {},
   "outputs": [
    {
     "data": {
      "text/plain": [
       "587"
      ]
     },
     "execution_count": 7,
     "metadata": {},
     "output_type": "execute_result"
    }
   ],
   "source": [
    "# List for holding lat_lngs and cities\n",
    "lat_lngs = []\n",
    "cities = []\n",
    "\n",
    "# Create a set of random lat and lng combinations\n",
    "lats = np.random.uniform(lat_range[0], lat_range[1], size=1500)\n",
    "lngs = np.random.uniform(lng_range[0], lng_range[1], size=1500)\n",
    "lat_lngs = zip(lats, lngs)\n",
    "\n",
    "# Identify nearest city for each lat, lng combination\n",
    "for lat_lng in lat_lngs:\n",
    "    city = citipy.nearest_city(lat_lng[0], lat_lng[1]).city_name\n",
    "    \n",
    "    # If the city is unique, then add it to a our cities list\n",
    "    if city not in cities:\n",
    "        cities.append(city)\n",
    "\n",
    "# Print the city count to confirm sufficient count\n",
    "len(cities)"
   ]
  },
  {
   "cell_type": "markdown",
   "metadata": {},
   "source": [
    "### Perform API Calls\n",
    "* Perform a weather check on each city using a series of successive API calls.\n",
    "* Include a print log of each city as it'sbeing processed (with the city number and city name).\n"
   ]
  },
  {
   "cell_type": "code",
   "execution_count": 8,
   "metadata": {
    "scrolled": true
   },
   "outputs": [
    {
     "name": "stdout",
     "output_type": "stream",
     "text": [
      "Beginning Data Retrieval:\n",
      "-----------------------------\n",
      "Processing Record 1 of Set 1 | punta arenas\n",
      "Processing Record 2 of Set 1 | yellowknife\n",
      "Processing Record 3 of Set 1 | khandbari\n",
      "Processing Record 4 of Set 1 | albany\n",
      "Processing Record 5 of Set 1 | rikitea\n",
      "Processing Record 6 of Set 1 | puerto ayora\n",
      "Processing Record 7 of Set 1 | busselton\n",
      "Processing Record 8 of Set 1 | codrington\n",
      "Processing Record 9 of Set 1 | atuona\n",
      "Processing Record 10 of Set 1 | san luis\n",
      "Processing Record 11 of Set 1 | east london\n",
      "Processing Record 12 of Set 1 | bluff\n",
      "Processing Record 13 of Set 1 | bredasdorp\n",
      "Processing Record 14 of Set 1 | samdari\n",
      "Processing Record 15 of Set 1 | imphal\n",
      "City not found in API | taolanaro\n",
      "Processing Record 16 of Set 1 | chokurdakh\n",
      "Processing Record 17 of Set 1 | cherskiy\n",
      "Processing Record 18 of Set 1 | ginir\n",
      "Processing Record 19 of Set 1 | ndjole\n",
      "Processing Record 20 of Set 1 | kavieng\n",
      "Processing Record 21 of Set 1 | mataura\n",
      "Processing Record 22 of Set 1 | uruzgan\n",
      "Processing Record 23 of Set 1 | hobart\n",
      "Processing Record 24 of Set 1 | port alfred\n",
      "Processing Record 25 of Set 1 | san quintin\n",
      "Processing Record 26 of Set 1 | avera\n",
      "Processing Record 27 of Set 1 | leningradskiy\n",
      "Processing Record 28 of Set 1 | half moon bay\n",
      "Processing Record 29 of Set 1 | pevek\n",
      "Processing Record 30 of Set 1 | tasiilaq\n",
      "Processing Record 31 of Set 1 | hailin\n",
      "Processing Record 32 of Set 1 | bandrele\n",
      "Processing Record 33 of Set 1 | khatanga\n",
      "Processing Record 34 of Set 1 | vaini\n",
      "City not found in API | mizpe ramon\n",
      "Processing Record 35 of Set 1 | vardo\n",
      "Processing Record 36 of Set 1 | sao jose da coroa grande\n",
      "Processing Record 37 of Set 1 | saint-philippe\n",
      "City not found in API | nizhneyansk\n",
      "Processing Record 38 of Set 1 | saint george\n",
      "Processing Record 39 of Set 1 | kismayo\n",
      "Processing Record 40 of Set 1 | bagdarin\n",
      "Processing Record 41 of Set 1 | tabou\n",
      "Processing Record 42 of Set 1 | la palma\n",
      "Processing Record 43 of Set 1 | oistins\n",
      "Processing Record 44 of Set 1 | mareeba\n",
      "Processing Record 45 of Set 1 | voh\n",
      "Processing Record 46 of Set 1 | ancud\n",
      "Processing Record 47 of Set 1 | ushuaia\n",
      "Processing Record 48 of Set 1 | avarua\n",
      "Processing Record 49 of Set 1 | ballina\n",
      "Processing Record 50 of Set 1 | new norfolk\n",
      "Processing Record 51 of Set 1 | bambous virieux\n",
      "Processing Record 52 of Set 1 | tezu\n",
      "Processing Record 53 of Set 1 | biak\n",
      "City not found in API | tumannyy\n",
      "Processing Record 54 of Set 1 | tuktoyaktuk\n",
      "Processing Record 55 of Set 1 | vao\n",
      "Processing Record 56 of Set 1 | navrongo\n",
      "Processing Record 57 of Set 1 | brae\n",
      "City not found in API | illoqqortoormiut\n",
      "Processing Record 58 of Set 1 | sao joao da barra\n",
      "Processing Record 59 of Set 1 | homer\n",
      "Processing Record 60 of Set 1 | alto araguaia\n",
      "Processing Record 61 of Set 1 | kodiak\n",
      "Processing Record 62 of Set 1 | arandis\n",
      "Processing Record 63 of Set 1 | lebu\n",
      "Processing Record 64 of Set 1 | salalah\n",
      "Processing Record 65 of Set 1 | arlit\n",
      "Processing Record 66 of Set 1 | roma\n",
      "Processing Record 67 of Set 1 | hermanus\n",
      "City not found in API | saleaula\n",
      "Processing Record 68 of Set 1 | saldanha\n",
      "Processing Record 69 of Set 1 | constitucion\n",
      "Processing Record 70 of Set 1 | livani\n",
      "City not found in API | barentsburg\n",
      "Processing Record 71 of Set 1 | praia da vitoria\n",
      "Processing Record 72 of Set 1 | borinskoye\n",
      "Processing Record 73 of Set 1 | ushtobe\n",
      "City not found in API | qabis\n",
      "Processing Record 74 of Set 1 | mar del plata\n",
      "Processing Record 75 of Set 1 | jilib\n",
      "Processing Record 76 of Set 1 | kunming\n",
      "Processing Record 77 of Set 1 | hilo\n",
      "City not found in API | temaraia\n",
      "Processing Record 78 of Set 1 | kapaa\n",
      "Processing Record 79 of Set 1 | lata\n",
      "Processing Record 80 of Set 1 | ponta do sol\n",
      "Processing Record 81 of Set 1 | erenhot\n",
      "Processing Record 82 of Set 1 | college\n",
      "Processing Record 83 of Set 1 | svetlyy\n",
      "Processing Record 84 of Set 1 | victoria\n",
      "Processing Record 85 of Set 1 | qaanaaq\n",
      "Processing Record 86 of Set 1 | coihaique\n",
      "Processing Record 87 of Set 1 | georgetown\n",
      "Processing Record 88 of Set 1 | chaozhou\n",
      "Processing Record 89 of Set 1 | keetmanshoop\n",
      "Processing Record 90 of Set 1 | chuy\n",
      "Processing Record 91 of Set 1 | rawson\n",
      "Processing Record 92 of Set 1 | ilesha\n",
      "Processing Record 93 of Set 1 | esperance\n",
      "Processing Record 94 of Set 1 | aklavik\n",
      "Processing Record 95 of Set 1 | mahebourg\n",
      "City not found in API | faridan\n",
      "Processing Record 96 of Set 1 | alofi\n",
      "Processing Record 97 of Set 1 | neuquen\n",
      "Processing Record 98 of Set 1 | salisbury\n",
      "Processing Record 99 of Set 1 | saint anthony\n",
      "Processing Record 100 of Set 1 | san isidro\n",
      "Processing Record 101 of Set 1 | dingle\n",
      "Processing Record 102 of Set 1 | ilulissat\n",
      "Processing Record 103 of Set 1 | jalu\n",
      "Processing Record 104 of Set 1 | egvekinot\n",
      "Processing Record 105 of Set 1 | cabo san lucas\n",
      "Processing Record 106 of Set 1 | fort saint james\n",
      "Processing Record 107 of Set 1 | nikolskoye\n",
      "Processing Record 108 of Set 1 | alta floresta\n",
      "Processing Record 109 of Set 1 | haines junction\n",
      "City not found in API | attawapiskat\n",
      "Processing Record 110 of Set 1 | nova bystrice\n",
      "Processing Record 111 of Set 1 | daru\n",
      "Processing Record 112 of Set 1 | jamestown\n",
      "Processing Record 113 of Set 1 | denpasar\n",
      "Processing Record 114 of Set 1 | grand gaube\n",
      "Processing Record 115 of Set 1 | dikson\n",
      "Processing Record 116 of Set 1 | luderitz\n",
      "Processing Record 117 of Set 1 | sainte-maxime\n",
      "Processing Record 118 of Set 1 | thompson\n",
      "Processing Record 119 of Set 1 | kitaibaraki\n",
      "Processing Record 120 of Set 1 | takoradi\n",
      "Processing Record 121 of Set 1 | kawai\n",
      "Processing Record 122 of Set 1 | gat\n",
      "Processing Record 123 of Set 1 | upernavik\n",
      "Processing Record 124 of Set 1 | port blair\n",
      "Processing Record 125 of Set 1 | broome\n",
      "Processing Record 126 of Set 1 | gao\n",
      "Processing Record 127 of Set 1 | barrow\n",
      "Processing Record 128 of Set 1 | cayenne\n",
      "Processing Record 129 of Set 1 | hithadhoo\n",
      "Processing Record 130 of Set 1 | inuvik\n",
      "Processing Record 131 of Set 1 | grigiskes\n",
      "Processing Record 132 of Set 1 | sao felix do xingu\n",
      "Processing Record 133 of Set 1 | bocas del toro\n",
      "Processing Record 134 of Set 1 | dakoro\n",
      "Processing Record 135 of Set 1 | banda aceh\n",
      "Processing Record 136 of Set 1 | tambovka\n",
      "Processing Record 137 of Set 1 | lorengau\n",
      "Processing Record 138 of Set 1 | oranjemund\n",
      "City not found in API | hunza\n",
      "Processing Record 139 of Set 1 | antalaha\n",
      "Processing Record 140 of Set 1 | oriximina\n",
      "Processing Record 141 of Set 1 | faya\n",
      "Processing Record 142 of Set 1 | otavi\n",
      "Processing Record 143 of Set 1 | hovd\n",
      "Processing Record 144 of Set 1 | tahta\n",
      "Processing Record 145 of Set 1 | arraial do cabo\n",
      "Processing Record 146 of Set 1 | kaitangata\n",
      "Processing Record 147 of Set 1 | airai\n",
      "Processing Record 148 of Set 1 | ribeira grande\n",
      "Processing Record 149 of Set 1 | carnarvon\n",
      "Processing Record 150 of Set 1 | bethel\n",
      "Processing Record 151 of Set 1 | agadir\n",
      "Processing Record 152 of Set 1 | serenje\n",
      "Processing Record 153 of Set 1 | castro\n",
      "Processing Record 154 of Set 1 | hameln\n",
      "Processing Record 155 of Set 1 | saint-augustin\n",
      "Processing Record 156 of Set 1 | kontagora\n",
      "Processing Record 157 of Set 1 | clyde river\n",
      "Processing Record 158 of Set 1 | banjar\n",
      "Processing Record 159 of Set 1 | trybukhivtsi\n",
      "Processing Record 160 of Set 1 | ust-kuyga\n",
      "Processing Record 161 of Set 1 | saskylakh\n",
      "Processing Record 162 of Set 1 | betma\n",
      "Processing Record 163 of Set 1 | camabatela\n",
      "Processing Record 164 of Set 1 | udachnyy\n",
      "Processing Record 165 of Set 1 | bharatpur\n",
      "Processing Record 166 of Set 1 | bengkulu\n",
      "Processing Record 167 of Set 1 | tobol\n",
      "City not found in API | lolua\n",
      "Processing Record 168 of Set 1 | mecca\n",
      "Processing Record 169 of Set 1 | sorland\n",
      "Processing Record 170 of Set 1 | limon\n",
      "Processing Record 171 of Set 1 | isla vista\n",
      "Processing Record 172 of Set 1 | yar-sale\n",
      "Processing Record 173 of Set 1 | richards bay\n",
      "City not found in API | sentyabrskiy\n",
      "Processing Record 174 of Set 1 | ahipara\n",
      "Processing Record 175 of Set 1 | torbay\n",
      "Processing Record 176 of Set 1 | makarov\n",
      "Processing Record 177 of Set 1 | dicabisagan\n",
      "Processing Record 178 of Set 1 | iwanai\n",
      "Processing Record 179 of Set 1 | port elizabeth\n",
      "City not found in API | gorno-chuyskiy\n",
      "Processing Record 180 of Set 1 | mount isa\n",
      "Processing Record 181 of Set 1 | moron\n",
      "Processing Record 182 of Set 1 | provideniya\n",
      "Processing Record 183 of Set 1 | aswan\n",
      "Processing Record 184 of Set 1 | ambulu\n"
     ]
    },
    {
     "name": "stdout",
     "output_type": "stream",
     "text": [
      "City not found in API | amderma\n",
      "Processing Record 185 of Set 1 | pahrump\n",
      "City not found in API | mrirt\n",
      "Processing Record 186 of Set 1 | butaritari\n",
      "Processing Record 187 of Set 1 | vestmanna\n",
      "Processing Record 188 of Set 1 | xinyu\n",
      "Processing Record 189 of Set 1 | tono\n",
      "Processing Record 190 of Set 1 | valdemarpils\n",
      "City not found in API | tongsa\n",
      "Processing Record 191 of Set 1 | maniitsoq\n",
      "Processing Record 192 of Set 1 | tual\n",
      "Processing Record 193 of Set 1 | port lincoln\n",
      "Processing Record 194 of Set 1 | ostrovnoy\n",
      "Processing Record 195 of Set 1 | carutapera\n",
      "Processing Record 196 of Set 1 | cape town\n",
      "Processing Record 197 of Set 1 | baykit\n",
      "City not found in API | tsihombe\n",
      "Processing Record 198 of Set 1 | camocim\n",
      "Processing Record 199 of Set 1 | lagoa\n",
      "Processing Record 200 of Set 1 | chandur\n",
      "Processing Record 201 of Set 1 | tukrah\n",
      "City not found in API | khokholskiy\n",
      "Processing Record 202 of Set 1 | charters towers\n",
      "Processing Record 203 of Set 1 | touros\n",
      "Processing Record 204 of Set 1 | klaksvik\n",
      "Processing Record 205 of Set 1 | carballo\n",
      "Processing Record 206 of Set 1 | celestun\n",
      "Processing Record 207 of Set 1 | geraldton\n",
      "Processing Record 208 of Set 1 | hanyang\n",
      "Processing Record 209 of Set 1 | saint-leu\n",
      "Processing Record 210 of Set 1 | borogontsy\n",
      "Processing Record 211 of Set 1 | kloulklubed\n",
      "Processing Record 212 of Set 1 | katsuura\n",
      "Processing Record 213 of Set 1 | djougou\n",
      "Processing Record 214 of Set 1 | mehamn\n",
      "Processing Record 215 of Set 1 | severo-yeniseyskiy\n",
      "Processing Record 216 of Set 1 | tarko-sale\n",
      "Processing Record 217 of Set 1 | sao filipe\n",
      "Processing Record 218 of Set 1 | beringovskiy\n",
      "Processing Record 219 of Set 1 | manicore\n",
      "Processing Record 220 of Set 1 | la ronge\n",
      "Processing Record 221 of Set 1 | kunya\n",
      "Processing Record 222 of Set 1 | wiarton\n",
      "Processing Record 223 of Set 1 | leh\n",
      "Processing Record 224 of Set 1 | cicero dantas\n",
      "Processing Record 225 of Set 1 | allingabro\n",
      "City not found in API | vaitupu\n",
      "Processing Record 226 of Set 1 | mongo\n",
      "Processing Record 227 of Set 1 | irbeyskoye\n",
      "Processing Record 228 of Set 1 | fortuna\n",
      "Processing Record 229 of Set 1 | cidreira\n",
      "Processing Record 230 of Set 1 | xining\n",
      "Processing Record 231 of Set 1 | baft\n",
      "Processing Record 232 of Set 1 | kruisfontein\n",
      "Processing Record 233 of Set 1 | lardos\n",
      "Processing Record 234 of Set 1 | sfantu gheorghe\n",
      "Processing Record 235 of Set 1 | sitka\n",
      "Processing Record 236 of Set 1 | kokopo\n",
      "Processing Record 237 of Set 1 | nome\n",
      "Processing Record 238 of Set 1 | nouadhibou\n",
      "Processing Record 239 of Set 1 | yeppoon\n",
      "City not found in API | tabiauea\n",
      "Processing Record 240 of Set 1 | ambon\n",
      "Processing Record 241 of Set 1 | ermelo\n",
      "Processing Record 242 of Set 1 | adrar\n",
      "Processing Record 243 of Set 1 | ponta delgada\n",
      "Processing Record 244 of Set 1 | anadyr\n",
      "Processing Record 245 of Set 1 | burnie\n",
      "Processing Record 246 of Set 1 | anqiu\n",
      "Processing Record 247 of Set 1 | miro khan\n",
      "Processing Record 248 of Set 1 | vigrestad\n",
      "Processing Record 249 of Set 1 | eyl\n",
      "Processing Record 250 of Set 1 | ledec\n",
      "Processing Record 251 of Set 1 | taywarah\n",
      "Processing Record 252 of Set 1 | hay river\n",
      "Processing Record 253 of Set 1 | beloha\n",
      "Processing Record 254 of Set 1 | bucerias\n",
      "Processing Record 255 of Set 1 | thunder bay\n",
      "Processing Record 256 of Set 1 | longyearbyen\n",
      "Processing Record 257 of Set 1 | teya\n",
      "Processing Record 258 of Set 1 | atambua\n",
      "Processing Record 259 of Set 1 | mollendo\n",
      "Processing Record 260 of Set 1 | rodez\n",
      "Processing Record 261 of Set 1 | suihua\n",
      "Processing Record 262 of Set 1 | singkang\n",
      "Processing Record 263 of Set 1 | birsk\n",
      "Processing Record 264 of Set 1 | lososina\n",
      "Processing Record 265 of Set 1 | matara\n",
      "Processing Record 266 of Set 1 | walvis bay\n",
      "Processing Record 267 of Set 1 | naryan-mar\n",
      "Processing Record 268 of Set 1 | sulphur\n",
      "Processing Record 269 of Set 1 | douentza\n",
      "Processing Record 270 of Set 1 | aykhal\n",
      "Processing Record 271 of Set 1 | nabire\n",
      "Processing Record 272 of Set 1 | tiksi\n",
      "Processing Record 273 of Set 1 | bodden town\n",
      "Processing Record 274 of Set 1 | ashqelon\n",
      "Processing Record 275 of Set 1 | phek\n",
      "Processing Record 276 of Set 1 | pimentel\n",
      "Processing Record 277 of Set 1 | gouyave\n",
      "Processing Record 278 of Set 1 | menongue\n",
      "Processing Record 279 of Set 1 | bereda\n",
      "Processing Record 280 of Set 1 | nurota\n",
      "Processing Record 281 of Set 1 | techiman\n",
      "Processing Record 282 of Set 1 | zyryanka\n",
      "Processing Record 283 of Set 1 | ust-nera\n",
      "Processing Record 284 of Set 1 | aleksandrov gay\n",
      "Processing Record 285 of Set 1 | nagato\n",
      "Processing Record 286 of Set 1 | narsaq\n",
      "Processing Record 287 of Set 1 | baghmara\n",
      "Processing Record 288 of Set 1 | chau doc\n",
      "Processing Record 289 of Set 1 | shanhetun\n",
      "Processing Record 290 of Set 1 | bitung\n",
      "Processing Record 291 of Set 1 | montes altos\n",
      "Processing Record 292 of Set 1 | rabo de peixe\n",
      "Processing Record 293 of Set 1 | swansea\n",
      "Processing Record 294 of Set 1 | chokwe\n",
      "Processing Record 295 of Set 1 | mayo\n",
      "Processing Record 296 of Set 1 | poso\n",
      "Processing Record 297 of Set 1 | tawang\n",
      "Processing Record 298 of Set 1 | henties bay\n",
      "Processing Record 299 of Set 1 | shache\n",
      "Processing Record 300 of Set 1 | bonga\n",
      "City not found in API | viligili\n",
      "Processing Record 301 of Set 1 | rio grande\n",
      "Processing Record 302 of Set 1 | suez\n",
      "Processing Record 303 of Set 1 | hamilton\n",
      "Processing Record 304 of Set 1 | guerrero negro\n",
      "Processing Record 305 of Set 1 | lavrentiya\n",
      "Processing Record 306 of Set 1 | redlands\n",
      "Processing Record 307 of Set 1 | hami\n",
      "Processing Record 308 of Set 1 | uvira\n",
      "Processing Record 309 of Set 1 | bilibino\n",
      "Processing Record 310 of Set 1 | huarmey\n",
      "Processing Record 311 of Set 1 | pangnirtung\n",
      "Processing Record 312 of Set 1 | yumen\n",
      "Processing Record 313 of Set 1 | epiniana\n",
      "Processing Record 314 of Set 1 | finschhafen\n",
      "Processing Record 315 of Set 1 | spencer\n",
      "City not found in API | rungata\n",
      "Processing Record 316 of Set 1 | nanortalik\n",
      "Processing Record 317 of Set 1 | sedan\n",
      "Processing Record 318 of Set 1 | kununurra\n",
      "Processing Record 319 of Set 1 | durres\n",
      "Processing Record 320 of Set 1 | bowling green\n",
      "City not found in API | palabuhanratu\n",
      "Processing Record 321 of Set 1 | krasnoselkup\n",
      "City not found in API | nguiu\n",
      "Processing Record 322 of Set 1 | abasolo\n",
      "Processing Record 323 of Set 1 | port hedland\n",
      "Processing Record 324 of Set 1 | laguna\n",
      "Processing Record 325 of Set 1 | vaitape\n",
      "City not found in API | el faiyum\n",
      "Processing Record 326 of Set 1 | tomelloso\n",
      "Processing Record 327 of Set 1 | rodrigues alves\n",
      "Processing Record 328 of Set 1 | port hardy\n",
      "Processing Record 329 of Set 1 | waipawa\n",
      "Processing Record 330 of Set 1 | kahului\n",
      "City not found in API | yeletskiy\n",
      "City not found in API | utiroa\n",
      "Processing Record 331 of Set 1 | kargil\n",
      "Processing Record 332 of Set 1 | sangar\n",
      "Processing Record 333 of Set 1 | phalaborwa\n",
      "Processing Record 334 of Set 1 | parana\n",
      "Processing Record 335 of Set 1 | hobyo\n",
      "Processing Record 336 of Set 1 | caborca\n",
      "Processing Record 337 of Set 1 | puerto rico\n",
      "City not found in API | samusu\n",
      "Processing Record 338 of Set 1 | herat\n",
      "Processing Record 339 of Set 1 | synya\n",
      "Processing Record 340 of Set 1 | kemijarvi\n",
      "Processing Record 341 of Set 1 | damghan\n",
      "Processing Record 342 of Set 1 | mahuta\n",
      "Processing Record 343 of Set 1 | kolo\n",
      "Processing Record 344 of Set 1 | taoudenni\n",
      "Processing Record 345 of Set 1 | nouakchott\n",
      "Processing Record 346 of Set 1 | novobirilyussy\n",
      "Processing Record 347 of Set 1 | hualmay\n",
      "Processing Record 348 of Set 1 | matay\n",
      "Processing Record 349 of Set 1 | kangaatsiaq\n",
      "Processing Record 350 of Set 1 | irece\n",
      "Processing Record 351 of Set 1 | reichenau\n",
      "Processing Record 352 of Set 1 | poya\n",
      "Processing Record 353 of Set 1 | tessalit\n",
      "Processing Record 354 of Set 1 | souillac\n",
      "Processing Record 355 of Set 1 | raudeberg\n",
      "Processing Record 356 of Set 1 | porto novo\n",
      "Processing Record 357 of Set 1 | talnakh\n",
      "Processing Record 358 of Set 1 | bhikangaon\n",
      "Processing Record 359 of Set 1 | acari\n",
      "Processing Record 360 of Set 1 | san patricio\n",
      "Processing Record 361 of Set 1 | maba\n",
      "Processing Record 362 of Set 1 | conceicao do araguaia\n",
      "Processing Record 363 of Set 1 | komsomolskiy\n",
      "Processing Record 364 of Set 1 | tautira\n",
      "Processing Record 365 of Set 1 | inhambane\n",
      "Processing Record 366 of Set 1 | bonavista\n",
      "Processing Record 367 of Set 1 | olinala\n",
      "Processing Record 368 of Set 1 | kasungu\n"
     ]
    },
    {
     "name": "stdout",
     "output_type": "stream",
     "text": [
      "Processing Record 369 of Set 1 | srednekolymsk\n",
      "Processing Record 370 of Set 1 | skibbereen\n",
      "City not found in API | belushya guba\n",
      "City not found in API | andevoranto\n",
      "Processing Record 371 of Set 1 | nemuro\n",
      "Processing Record 372 of Set 1 | poum\n",
      "City not found in API | ust-kamchatsk\n",
      "Processing Record 373 of Set 1 | tura\n",
      "Processing Record 374 of Set 1 | santa marta\n",
      "Processing Record 375 of Set 1 | arman\n",
      "Processing Record 376 of Set 1 | tarsus\n",
      "Processing Record 377 of Set 1 | padang\n",
      "Processing Record 378 of Set 1 | ampanihy\n",
      "Processing Record 379 of Set 1 | ashford\n",
      "Processing Record 380 of Set 1 | magadan\n",
      "Processing Record 381 of Set 1 | gizo\n",
      "Processing Record 382 of Set 1 | iqaluit\n",
      "City not found in API | ozgon\n",
      "Processing Record 383 of Set 1 | alvaraes\n",
      "Processing Record 384 of Set 1 | portland\n",
      "Processing Record 385 of Set 1 | tunceli\n",
      "Processing Record 386 of Set 1 | sandane\n",
      "Processing Record 387 of Set 1 | outjo\n",
      "Processing Record 388 of Set 1 | ende\n",
      "Processing Record 389 of Set 1 | sao domingos\n",
      "Processing Record 390 of Set 1 | lompoc\n",
      "Processing Record 391 of Set 1 | khandyga\n",
      "Processing Record 392 of Set 1 | turinsk\n",
      "Processing Record 393 of Set 1 | vila\n",
      "Processing Record 394 of Set 1 | chapais\n",
      "Processing Record 395 of Set 1 | yarmouth\n",
      "Processing Record 396 of Set 1 | sur\n",
      "Processing Record 397 of Set 1 | marzuq\n",
      "Processing Record 398 of Set 1 | cockburn town\n",
      "Processing Record 399 of Set 1 | port macquarie\n",
      "Processing Record 400 of Set 1 | pochutla\n",
      "Processing Record 401 of Set 1 | hirara\n",
      "Processing Record 402 of Set 1 | namibe\n",
      "Processing Record 403 of Set 1 | shawnee\n",
      "Processing Record 404 of Set 1 | xudat\n",
      "Processing Record 405 of Set 1 | mineiros\n",
      "Processing Record 406 of Set 1 | banyumas\n",
      "Processing Record 407 of Set 1 | sambava\n",
      "Processing Record 408 of Set 1 | heihe\n",
      "Processing Record 409 of Set 1 | bathsheba\n",
      "Processing Record 410 of Set 1 | lima\n",
      "Processing Record 411 of Set 1 | kanniyakumari\n",
      "Processing Record 412 of Set 1 | ternate\n",
      "Processing Record 413 of Set 1 | cedar city\n",
      "Processing Record 414 of Set 1 | ossora\n",
      "Processing Record 415 of Set 1 | carnaiba\n",
      "Processing Record 416 of Set 1 | humaita\n",
      "City not found in API | mys shmidta\n",
      "Processing Record 417 of Set 1 | luba\n",
      "Processing Record 418 of Set 1 | camenca\n",
      "Processing Record 419 of Set 1 | bar harbor\n",
      "City not found in API | burica\n",
      "Processing Record 420 of Set 1 | toora-khem\n",
      "Processing Record 421 of Set 1 | taltal\n",
      "Processing Record 422 of Set 1 | tecolutla\n",
      "Processing Record 423 of Set 1 | hoquiam\n",
      "Processing Record 424 of Set 1 | bosaso\n",
      "Processing Record 425 of Set 1 | broken hill\n",
      "Processing Record 426 of Set 1 | portree\n",
      "Processing Record 427 of Set 1 | husavik\n",
      "Processing Record 428 of Set 1 | glenwood springs\n",
      "City not found in API | warqla\n",
      "Processing Record 429 of Set 1 | bubaque\n",
      "Processing Record 430 of Set 1 | kieta\n",
      "Processing Record 431 of Set 1 | bacolod\n",
      "City not found in API | ngukurr\n",
      "Processing Record 432 of Set 1 | faanui\n",
      "Processing Record 433 of Set 1 | verkhnevilyuysk\n",
      "City not found in API | chagda\n",
      "Processing Record 434 of Set 1 | kozhva\n",
      "Processing Record 435 of Set 1 | tutoia\n",
      "Processing Record 436 of Set 1 | saint-francois\n",
      "Processing Record 437 of Set 1 | asau\n",
      "City not found in API | grand river south east\n",
      "City not found in API | grand centre\n",
      "Processing Record 438 of Set 1 | necochea\n",
      "Processing Record 439 of Set 1 | grindavik\n",
      "Processing Record 440 of Set 1 | hopfgarten\n",
      "Processing Record 441 of Set 1 | north bend\n",
      "Processing Record 442 of Set 1 | glendive\n",
      "Processing Record 443 of Set 1 | swan river\n",
      "Processing Record 444 of Set 1 | guanica\n",
      "Processing Record 445 of Set 1 | nelson bay\n",
      "Processing Record 446 of Set 1 | sioux lookout\n",
      "Processing Record 447 of Set 1 | batticaloa\n",
      "Processing Record 448 of Set 1 | turtas\n",
      "Processing Record 449 of Set 1 | meulaboh\n",
      "Processing Record 450 of Set 1 | la rioja\n",
      "Processing Record 451 of Set 1 | pemberton\n",
      "Processing Record 452 of Set 1 | varkkallai\n",
      "Processing Record 453 of Set 1 | aliganj\n",
      "Processing Record 454 of Set 1 | chipinge\n",
      "Processing Record 455 of Set 1 | erdenet\n",
      "Processing Record 456 of Set 1 | mitzic\n",
      "Processing Record 457 of Set 1 | kinablangan\n",
      "Processing Record 458 of Set 1 | sakakah\n",
      "Processing Record 459 of Set 1 | marawi\n",
      "Processing Record 460 of Set 1 | pasni\n",
      "City not found in API | bolungarvik\n",
      "Processing Record 461 of Set 1 | santiago del estero\n",
      "Processing Record 462 of Set 1 | smithers\n",
      "City not found in API | kuche\n",
      "City not found in API | umm ruwabah\n",
      "Processing Record 463 of Set 1 | mezen\n",
      "Processing Record 464 of Set 1 | korem\n",
      "Processing Record 465 of Set 1 | mana\n",
      "Processing Record 466 of Set 1 | salta\n",
      "Processing Record 467 of Set 1 | barahona\n",
      "Processing Record 468 of Set 1 | lobito\n",
      "Processing Record 469 of Set 1 | vitoria\n",
      "Processing Record 470 of Set 1 | okhotsk\n",
      "Processing Record 471 of Set 1 | bail hongal\n",
      "City not found in API | armacao dos buzios\n",
      "Processing Record 472 of Set 1 | chany\n",
      "Processing Record 473 of Set 1 | salar\n",
      "City not found in API | bina-etawa\n",
      "Processing Record 474 of Set 1 | san-pedro\n",
      "Processing Record 475 of Set 1 | sola\n",
      "Processing Record 476 of Set 1 | santa isabel do rio negro\n",
      "Processing Record 477 of Set 1 | flinders\n",
      "Processing Record 478 of Set 1 | morena\n",
      "Processing Record 479 of Set 1 | sept-iles\n",
      "City not found in API | samalaeulu\n",
      "Processing Record 480 of Set 1 | north platte\n",
      "Processing Record 481 of Set 1 | fitii\n",
      "Processing Record 482 of Set 1 | ambilobe\n",
      "Processing Record 483 of Set 1 | carman\n",
      "Processing Record 484 of Set 1 | okha\n",
      "Processing Record 485 of Set 1 | nyurba\n",
      "Processing Record 486 of Set 1 | baghdad\n",
      "Processing Record 487 of Set 1 | fort nelson\n",
      "Processing Record 488 of Set 1 | kanakapura\n",
      "Processing Record 489 of Set 1 | coquimbo\n",
      "Processing Record 490 of Set 1 | paso de carrasco\n",
      "Processing Record 491 of Set 1 | nara\n",
      "Processing Record 492 of Set 1 | porbandar\n",
      "Processing Record 493 of Set 1 | bontang\n",
      "Processing Record 494 of Set 1 | wanaka\n",
      "Processing Record 495 of Set 1 | koroni\n",
      "Processing Record 496 of Set 1 | san borja\n",
      "Processing Record 497 of Set 1 | san cristobal\n",
      "Processing Record 498 of Set 1 | labuhan\n",
      "Processing Record 499 of Set 1 | namatanai\n",
      "Processing Record 500 of Set 1 | ukholovo\n",
      "Processing Record 501 of Set 1 | zaraza\n",
      "Processing Record 502 of Set 1 | qaqortoq\n",
      "Processing Record 503 of Set 1 | semnan\n",
      "Processing Record 504 of Set 1 | komatipoort\n",
      "Processing Record 505 of Set 1 | iracoubo\n",
      "Processing Record 506 of Set 1 | guangyuan\n",
      "Processing Record 507 of Set 1 | nhulunbuy\n",
      "City not found in API | yeltsovka\n",
      "Processing Record 508 of Set 1 | gap\n",
      "Processing Record 509 of Set 1 | kushima\n",
      "Processing Record 510 of Set 1 | staryy nadym\n",
      "Processing Record 511 of Set 1 | santo antonio do taua\n",
      "Processing Record 512 of Set 1 | fredericksburg\n",
      "Processing Record 513 of Set 1 | cefalu\n",
      "Processing Record 514 of Set 1 | katangli\n",
      "Processing Record 515 of Set 1 | mae hong son\n",
      "Processing Record 516 of Set 1 | sabzevar\n",
      "Processing Record 517 of Set 1 | dhrangadhra\n",
      "Processing Record 518 of Set 1 | twentynine palms\n",
      "Processing Record 519 of Set 1 | santo antonio do leverger\n",
      "Processing Record 520 of Set 1 | hambantota\n",
      "Processing Record 521 of Set 1 | warman\n",
      "Processing Record 522 of Set 1 | phangnga\n",
      "Processing Record 523 of Set 1 | kiunga\n",
      "Processing Record 524 of Set 1 | peniche\n",
      "Processing Record 525 of Set 1 | ridgecrest\n",
      "Processing Record 526 of Set 1 | quelimane\n",
      "Processing Record 527 of Set 1 | teguldet\n",
      "Processing Record 528 of Set 1 | svetlogorsk\n",
      "City not found in API | lalomanu\n",
      "Processing Record 529 of Set 1 | san jose\n",
      "Processing Record 530 of Set 1 | vidalia\n",
      "Processing Record 531 of Set 1 | lazaro cardenas\n",
      "Processing Record 532 of Set 1 | kijang\n",
      "Processing Record 533 of Set 1 | muros\n",
      "Processing Record 534 of Set 1 | norman wells\n",
      "Processing Record 535 of Set 1 | west bay\n",
      "City not found in API | yuzhno-yeniseyskiy\n",
      "Processing Record 536 of Set 1 | novyy urengoy\n",
      "Processing Record 537 of Set 1 | panalingaan\n"
     ]
    }
   ],
   "source": [
    "url = \"http://api.openweathermap.org/data/2.5/weather?\"\n",
    "url = url + \"appid=\" + weather_api_key + \"&units=imperial&q=\"\n",
    "\n",
    "print(f'Beginning Data Retrieval:')\n",
    "\n",
    "print(f'-----------------------------')\n",
    "\n",
    "lat = []\n",
    "lon = []\n",
    "max_temp = []\n",
    "wind = []\n",
    "humidity = []\n",
    "cloud = []\n",
    "country = []\n",
    "date = []\n",
    "found_cities = []\n",
    "city_count = 1\n",
    "\n",
    "#Processing Record 1 of Set 1 | butaritari\n",
    "\n",
    "for city in cities:\n",
    "    responses = requests.get(url+city).json()\n",
    "    try:\n",
    "        lat.append(responses['coord']['lat'])\n",
    "        lon.append(responses['coord']['lon'])\n",
    "        max_temp.append(responses['main']['temp_max'])\n",
    "        wind.append(responses['wind']['speed'])\n",
    "        humidity.append(responses['main']['humidity'])\n",
    "        cloud.append(responses['clouds']['all'])\n",
    "        country.append(responses['sys']['country'])\n",
    "        date.append(responses['dt'])\n",
    "        found_cities.append(city)\n",
    "        print(f\"Processing Record {city_count} of Set 1 | {city}\")\n",
    "        city_count = city_count + 1\n",
    "    except:\n",
    "        print(f'City not found in API | {city}')\n",
    "\n"
   ]
  },
  {
   "cell_type": "markdown",
   "metadata": {},
   "source": [
    "### Convert Raw Data to DataFrame\n",
    "* Export the city data into a .csv.\n",
    "* Display the DataFrame"
   ]
  },
  {
   "cell_type": "code",
   "execution_count": 9,
   "metadata": {},
   "outputs": [
    {
     "data": {
      "text/html": [
       "<div>\n",
       "<style scoped>\n",
       "    .dataframe tbody tr th:only-of-type {\n",
       "        vertical-align: middle;\n",
       "    }\n",
       "\n",
       "    .dataframe tbody tr th {\n",
       "        vertical-align: top;\n",
       "    }\n",
       "\n",
       "    .dataframe thead th {\n",
       "        text-align: right;\n",
       "    }\n",
       "</style>\n",
       "<table border=\"1\" class=\"dataframe\">\n",
       "  <thead>\n",
       "    <tr style=\"text-align: right;\">\n",
       "      <th></th>\n",
       "      <th>City</th>\n",
       "      <th>Latitude</th>\n",
       "      <th>Longitute</th>\n",
       "      <th>Max Temp</th>\n",
       "      <th>Humidity</th>\n",
       "      <th>Cloudiness</th>\n",
       "      <th>Wind Speed</th>\n",
       "      <th>Country</th>\n",
       "      <th>Date</th>\n",
       "    </tr>\n",
       "  </thead>\n",
       "  <tbody>\n",
       "    <tr>\n",
       "      <th>0</th>\n",
       "      <td>punta arenas</td>\n",
       "      <td>-53.15</td>\n",
       "      <td>-70.92</td>\n",
       "      <td>51.80</td>\n",
       "      <td>57</td>\n",
       "      <td>20</td>\n",
       "      <td>50.55</td>\n",
       "      <td>CL</td>\n",
       "      <td>1608054617</td>\n",
       "    </tr>\n",
       "    <tr>\n",
       "      <th>1</th>\n",
       "      <td>yellowknife</td>\n",
       "      <td>62.46</td>\n",
       "      <td>-114.35</td>\n",
       "      <td>-29.00</td>\n",
       "      <td>73</td>\n",
       "      <td>40</td>\n",
       "      <td>2.24</td>\n",
       "      <td>CA</td>\n",
       "      <td>1608054618</td>\n",
       "    </tr>\n",
       "    <tr>\n",
       "      <th>2</th>\n",
       "      <td>khandbari</td>\n",
       "      <td>27.37</td>\n",
       "      <td>87.20</td>\n",
       "      <td>52.41</td>\n",
       "      <td>48</td>\n",
       "      <td>0</td>\n",
       "      <td>2.53</td>\n",
       "      <td>NP</td>\n",
       "      <td>1608054618</td>\n",
       "    </tr>\n",
       "    <tr>\n",
       "      <th>3</th>\n",
       "      <td>albany</td>\n",
       "      <td>42.60</td>\n",
       "      <td>-73.97</td>\n",
       "      <td>32.00</td>\n",
       "      <td>38</td>\n",
       "      <td>9</td>\n",
       "      <td>1.99</td>\n",
       "      <td>US</td>\n",
       "      <td>1608054604</td>\n",
       "    </tr>\n",
       "    <tr>\n",
       "      <th>4</th>\n",
       "      <td>rikitea</td>\n",
       "      <td>-23.12</td>\n",
       "      <td>-134.97</td>\n",
       "      <td>76.62</td>\n",
       "      <td>72</td>\n",
       "      <td>7</td>\n",
       "      <td>7.09</td>\n",
       "      <td>PF</td>\n",
       "      <td>1608054618</td>\n",
       "    </tr>\n",
       "    <tr>\n",
       "      <th>...</th>\n",
       "      <td>...</td>\n",
       "      <td>...</td>\n",
       "      <td>...</td>\n",
       "      <td>...</td>\n",
       "      <td>...</td>\n",
       "      <td>...</td>\n",
       "      <td>...</td>\n",
       "      <td>...</td>\n",
       "      <td>...</td>\n",
       "    </tr>\n",
       "    <tr>\n",
       "      <th>532</th>\n",
       "      <td>muros</td>\n",
       "      <td>42.78</td>\n",
       "      <td>-9.06</td>\n",
       "      <td>55.00</td>\n",
       "      <td>91</td>\n",
       "      <td>100</td>\n",
       "      <td>7.00</td>\n",
       "      <td>ES</td>\n",
       "      <td>1608054714</td>\n",
       "    </tr>\n",
       "    <tr>\n",
       "      <th>533</th>\n",
       "      <td>norman wells</td>\n",
       "      <td>65.28</td>\n",
       "      <td>-126.83</td>\n",
       "      <td>-34.60</td>\n",
       "      <td>73</td>\n",
       "      <td>75</td>\n",
       "      <td>3.36</td>\n",
       "      <td>CA</td>\n",
       "      <td>1608054714</td>\n",
       "    </tr>\n",
       "    <tr>\n",
       "      <th>534</th>\n",
       "      <td>west bay</td>\n",
       "      <td>19.37</td>\n",
       "      <td>-81.42</td>\n",
       "      <td>84.20</td>\n",
       "      <td>74</td>\n",
       "      <td>20</td>\n",
       "      <td>11.41</td>\n",
       "      <td>KY</td>\n",
       "      <td>1608054714</td>\n",
       "    </tr>\n",
       "    <tr>\n",
       "      <th>535</th>\n",
       "      <td>novyy urengoy</td>\n",
       "      <td>66.08</td>\n",
       "      <td>76.63</td>\n",
       "      <td>-10.68</td>\n",
       "      <td>86</td>\n",
       "      <td>60</td>\n",
       "      <td>14.99</td>\n",
       "      <td>RU</td>\n",
       "      <td>1608054555</td>\n",
       "    </tr>\n",
       "    <tr>\n",
       "      <th>536</th>\n",
       "      <td>panalingaan</td>\n",
       "      <td>8.78</td>\n",
       "      <td>117.42</td>\n",
       "      <td>78.71</td>\n",
       "      <td>81</td>\n",
       "      <td>77</td>\n",
       "      <td>3.91</td>\n",
       "      <td>PH</td>\n",
       "      <td>1608054714</td>\n",
       "    </tr>\n",
       "  </tbody>\n",
       "</table>\n",
       "<p>537 rows × 9 columns</p>\n",
       "</div>"
      ],
      "text/plain": [
       "              City  Latitude  Longitute  Max Temp  Humidity  Cloudiness  \\\n",
       "0     punta arenas    -53.15     -70.92     51.80        57          20   \n",
       "1      yellowknife     62.46    -114.35    -29.00        73          40   \n",
       "2        khandbari     27.37      87.20     52.41        48           0   \n",
       "3           albany     42.60     -73.97     32.00        38           9   \n",
       "4          rikitea    -23.12    -134.97     76.62        72           7   \n",
       "..             ...       ...        ...       ...       ...         ...   \n",
       "532          muros     42.78      -9.06     55.00        91         100   \n",
       "533   norman wells     65.28    -126.83    -34.60        73          75   \n",
       "534       west bay     19.37     -81.42     84.20        74          20   \n",
       "535  novyy urengoy     66.08      76.63    -10.68        86          60   \n",
       "536    panalingaan      8.78     117.42     78.71        81          77   \n",
       "\n",
       "     Wind Speed Country        Date  \n",
       "0         50.55      CL  1608054617  \n",
       "1          2.24      CA  1608054618  \n",
       "2          2.53      NP  1608054618  \n",
       "3          1.99      US  1608054604  \n",
       "4          7.09      PF  1608054618  \n",
       "..          ...     ...         ...  \n",
       "532        7.00      ES  1608054714  \n",
       "533        3.36      CA  1608054714  \n",
       "534       11.41      KY  1608054714  \n",
       "535       14.99      RU  1608054555  \n",
       "536        3.91      PH  1608054714  \n",
       "\n",
       "[537 rows x 9 columns]"
      ]
     },
     "execution_count": 9,
     "metadata": {},
     "output_type": "execute_result"
    }
   ],
   "source": [
    "weather_df = pd.DataFrame({\"City\":found_cities,\n",
    "                          \"Latitude\":lat,\n",
    "                          \"Longitute\":lon,\n",
    "                          \"Max Temp\":max_temp,\n",
    "                          \"Humidity\":humidity,\n",
    "                          \"Cloudiness\":cloud,\n",
    "                          \"Wind Speed\":wind,\n",
    "                          \"Country\":country,\n",
    "                          \"Date\":date})\n",
    "weather_df.to_csv(output_data_file,index = False, header=True)\n",
    "weather_df"
   ]
  },
  {
   "cell_type": "code",
   "execution_count": 10,
   "metadata": {},
   "outputs": [
    {
     "data": {
      "text/html": [
       "<div>\n",
       "<style scoped>\n",
       "    .dataframe tbody tr th:only-of-type {\n",
       "        vertical-align: middle;\n",
       "    }\n",
       "\n",
       "    .dataframe tbody tr th {\n",
       "        vertical-align: top;\n",
       "    }\n",
       "\n",
       "    .dataframe thead th {\n",
       "        text-align: right;\n",
       "    }\n",
       "</style>\n",
       "<table border=\"1\" class=\"dataframe\">\n",
       "  <thead>\n",
       "    <tr style=\"text-align: right;\">\n",
       "      <th></th>\n",
       "      <th>City</th>\n",
       "      <th>Latitude</th>\n",
       "      <th>Longitute</th>\n",
       "      <th>Max Temp</th>\n",
       "      <th>Humidity</th>\n",
       "      <th>Cloudiness</th>\n",
       "      <th>Wind Speed</th>\n",
       "      <th>Country</th>\n",
       "      <th>Date</th>\n",
       "    </tr>\n",
       "  </thead>\n",
       "  <tbody>\n",
       "    <tr>\n",
       "      <th>count</th>\n",
       "      <td>537</td>\n",
       "      <td>537.000000</td>\n",
       "      <td>537.000000</td>\n",
       "      <td>537.000000</td>\n",
       "      <td>537.000000</td>\n",
       "      <td>537.000000</td>\n",
       "      <td>537.000000</td>\n",
       "      <td>537</td>\n",
       "      <td>5.370000e+02</td>\n",
       "    </tr>\n",
       "    <tr>\n",
       "      <th>unique</th>\n",
       "      <td>537</td>\n",
       "      <td>NaN</td>\n",
       "      <td>NaN</td>\n",
       "      <td>NaN</td>\n",
       "      <td>NaN</td>\n",
       "      <td>NaN</td>\n",
       "      <td>NaN</td>\n",
       "      <td>115</td>\n",
       "      <td>NaN</td>\n",
       "    </tr>\n",
       "    <tr>\n",
       "      <th>top</th>\n",
       "      <td>nhulunbuy</td>\n",
       "      <td>NaN</td>\n",
       "      <td>NaN</td>\n",
       "      <td>NaN</td>\n",
       "      <td>NaN</td>\n",
       "      <td>NaN</td>\n",
       "      <td>NaN</td>\n",
       "      <td>RU</td>\n",
       "      <td>NaN</td>\n",
       "    </tr>\n",
       "    <tr>\n",
       "      <th>freq</th>\n",
       "      <td>1</td>\n",
       "      <td>NaN</td>\n",
       "      <td>NaN</td>\n",
       "      <td>NaN</td>\n",
       "      <td>NaN</td>\n",
       "      <td>NaN</td>\n",
       "      <td>NaN</td>\n",
       "      <td>62</td>\n",
       "      <td>NaN</td>\n",
       "    </tr>\n",
       "    <tr>\n",
       "      <th>mean</th>\n",
       "      <td>NaN</td>\n",
       "      <td>20.461825</td>\n",
       "      <td>17.925270</td>\n",
       "      <td>50.831173</td>\n",
       "      <td>72.361266</td>\n",
       "      <td>52.854749</td>\n",
       "      <td>8.711341</td>\n",
       "      <td>NaN</td>\n",
       "      <td>1.608055e+09</td>\n",
       "    </tr>\n",
       "    <tr>\n",
       "      <th>std</th>\n",
       "      <td>NaN</td>\n",
       "      <td>32.939341</td>\n",
       "      <td>90.684385</td>\n",
       "      <td>32.017681</td>\n",
       "      <td>19.714658</td>\n",
       "      <td>38.383830</td>\n",
       "      <td>6.646875</td>\n",
       "      <td>NaN</td>\n",
       "      <td>7.034508e+01</td>\n",
       "    </tr>\n",
       "    <tr>\n",
       "      <th>min</th>\n",
       "      <td>NaN</td>\n",
       "      <td>-54.800000</td>\n",
       "      <td>-179.170000</td>\n",
       "      <td>-50.170000</td>\n",
       "      <td>13.000000</td>\n",
       "      <td>0.000000</td>\n",
       "      <td>0.340000</td>\n",
       "      <td>NaN</td>\n",
       "      <td>1.608054e+09</td>\n",
       "    </tr>\n",
       "    <tr>\n",
       "      <th>25%</th>\n",
       "      <td>NaN</td>\n",
       "      <td>-8.100000</td>\n",
       "      <td>-59.530000</td>\n",
       "      <td>30.200000</td>\n",
       "      <td>63.000000</td>\n",
       "      <td>15.000000</td>\n",
       "      <td>3.670000</td>\n",
       "      <td>NaN</td>\n",
       "      <td>1.608055e+09</td>\n",
       "    </tr>\n",
       "    <tr>\n",
       "      <th>50%</th>\n",
       "      <td>NaN</td>\n",
       "      <td>24.680000</td>\n",
       "      <td>21.550000</td>\n",
       "      <td>60.600000</td>\n",
       "      <td>77.000000</td>\n",
       "      <td>60.000000</td>\n",
       "      <td>6.930000</td>\n",
       "      <td>NaN</td>\n",
       "      <td>1.608055e+09</td>\n",
       "    </tr>\n",
       "    <tr>\n",
       "      <th>75%</th>\n",
       "      <td>NaN</td>\n",
       "      <td>48.650000</td>\n",
       "      <td>95.450000</td>\n",
       "      <td>77.000000</td>\n",
       "      <td>87.000000</td>\n",
       "      <td>90.000000</td>\n",
       "      <td>12.010000</td>\n",
       "      <td>NaN</td>\n",
       "      <td>1.608055e+09</td>\n",
       "    </tr>\n",
       "    <tr>\n",
       "      <th>max</th>\n",
       "      <td>NaN</td>\n",
       "      <td>78.220000</td>\n",
       "      <td>179.320000</td>\n",
       "      <td>96.480000</td>\n",
       "      <td>100.000000</td>\n",
       "      <td>100.000000</td>\n",
       "      <td>50.550000</td>\n",
       "      <td>NaN</td>\n",
       "      <td>1.608055e+09</td>\n",
       "    </tr>\n",
       "  </tbody>\n",
       "</table>\n",
       "</div>"
      ],
      "text/plain": [
       "             City    Latitude   Longitute    Max Temp    Humidity  Cloudiness  \\\n",
       "count         537  537.000000  537.000000  537.000000  537.000000  537.000000   \n",
       "unique        537         NaN         NaN         NaN         NaN         NaN   \n",
       "top     nhulunbuy         NaN         NaN         NaN         NaN         NaN   \n",
       "freq            1         NaN         NaN         NaN         NaN         NaN   \n",
       "mean          NaN   20.461825   17.925270   50.831173   72.361266   52.854749   \n",
       "std           NaN   32.939341   90.684385   32.017681   19.714658   38.383830   \n",
       "min           NaN  -54.800000 -179.170000  -50.170000   13.000000    0.000000   \n",
       "25%           NaN   -8.100000  -59.530000   30.200000   63.000000   15.000000   \n",
       "50%           NaN   24.680000   21.550000   60.600000   77.000000   60.000000   \n",
       "75%           NaN   48.650000   95.450000   77.000000   87.000000   90.000000   \n",
       "max           NaN   78.220000  179.320000   96.480000  100.000000  100.000000   \n",
       "\n",
       "        Wind Speed Country          Date  \n",
       "count   537.000000     537  5.370000e+02  \n",
       "unique         NaN     115           NaN  \n",
       "top            NaN      RU           NaN  \n",
       "freq           NaN      62           NaN  \n",
       "mean      8.711341     NaN  1.608055e+09  \n",
       "std       6.646875     NaN  7.034508e+01  \n",
       "min       0.340000     NaN  1.608054e+09  \n",
       "25%       3.670000     NaN  1.608055e+09  \n",
       "50%       6.930000     NaN  1.608055e+09  \n",
       "75%      12.010000     NaN  1.608055e+09  \n",
       "max      50.550000     NaN  1.608055e+09  "
      ]
     },
     "execution_count": 10,
     "metadata": {},
     "output_type": "execute_result"
    }
   ],
   "source": [
    "weather_df.describe(include='all')"
   ]
  },
  {
   "cell_type": "markdown",
   "metadata": {},
   "source": [
    "## Inspect the data and remove the cities where the humidity > 100%.\n",
    "----\n",
    "Skip this step if there are no cities that have humidity > 100%. "
   ]
  },
  {
   "cell_type": "code",
   "execution_count": 11,
   "metadata": {},
   "outputs": [
    {
     "data": {
      "text/plain": [
       "count    537.000000\n",
       "mean      72.361266\n",
       "std       19.714658\n",
       "min       13.000000\n",
       "25%       63.000000\n",
       "50%       77.000000\n",
       "75%       87.000000\n",
       "max      100.000000\n",
       "Name: Humidity, dtype: float64"
      ]
     },
     "execution_count": 11,
     "metadata": {},
     "output_type": "execute_result"
    }
   ],
   "source": [
    "#max humidity is 100 so no need to remove, however I will write code as a catch-all\n",
    "\n",
    "weather_df = weather_df.loc[weather_df[\"Humidity\"] <= 100]\n",
    "\n",
    "#check max humidity\n",
    "\n",
    "weather_df[\"Humidity\"].describe()"
   ]
  },
  {
   "cell_type": "code",
   "execution_count": 12,
   "metadata": {},
   "outputs": [],
   "source": [
    "#  Get the indices of cities that have humidity over 100%.\n"
   ]
  },
  {
   "cell_type": "code",
   "execution_count": 13,
   "metadata": {},
   "outputs": [
    {
     "data": {
      "text/html": [
       "<div>\n",
       "<style scoped>\n",
       "    .dataframe tbody tr th:only-of-type {\n",
       "        vertical-align: middle;\n",
       "    }\n",
       "\n",
       "    .dataframe tbody tr th {\n",
       "        vertical-align: top;\n",
       "    }\n",
       "\n",
       "    .dataframe thead th {\n",
       "        text-align: right;\n",
       "    }\n",
       "</style>\n",
       "<table border=\"1\" class=\"dataframe\">\n",
       "  <thead>\n",
       "    <tr style=\"text-align: right;\">\n",
       "      <th></th>\n",
       "      <th>City</th>\n",
       "      <th>Latitude</th>\n",
       "      <th>Longitute</th>\n",
       "      <th>Max Temp</th>\n",
       "      <th>Humidity</th>\n",
       "      <th>Cloudiness</th>\n",
       "      <th>Wind Speed</th>\n",
       "      <th>Country</th>\n",
       "      <th>Date</th>\n",
       "    </tr>\n",
       "  </thead>\n",
       "  <tbody>\n",
       "    <tr>\n",
       "      <th>0</th>\n",
       "      <td>punta arenas</td>\n",
       "      <td>-53.15</td>\n",
       "      <td>-70.92</td>\n",
       "      <td>51.80</td>\n",
       "      <td>57</td>\n",
       "      <td>20</td>\n",
       "      <td>50.55</td>\n",
       "      <td>CL</td>\n",
       "      <td>1608054617</td>\n",
       "    </tr>\n",
       "    <tr>\n",
       "      <th>1</th>\n",
       "      <td>yellowknife</td>\n",
       "      <td>62.46</td>\n",
       "      <td>-114.35</td>\n",
       "      <td>-29.00</td>\n",
       "      <td>73</td>\n",
       "      <td>40</td>\n",
       "      <td>2.24</td>\n",
       "      <td>CA</td>\n",
       "      <td>1608054618</td>\n",
       "    </tr>\n",
       "    <tr>\n",
       "      <th>2</th>\n",
       "      <td>khandbari</td>\n",
       "      <td>27.37</td>\n",
       "      <td>87.20</td>\n",
       "      <td>52.41</td>\n",
       "      <td>48</td>\n",
       "      <td>0</td>\n",
       "      <td>2.53</td>\n",
       "      <td>NP</td>\n",
       "      <td>1608054618</td>\n",
       "    </tr>\n",
       "    <tr>\n",
       "      <th>3</th>\n",
       "      <td>albany</td>\n",
       "      <td>42.60</td>\n",
       "      <td>-73.97</td>\n",
       "      <td>32.00</td>\n",
       "      <td>38</td>\n",
       "      <td>9</td>\n",
       "      <td>1.99</td>\n",
       "      <td>US</td>\n",
       "      <td>1608054604</td>\n",
       "    </tr>\n",
       "    <tr>\n",
       "      <th>4</th>\n",
       "      <td>rikitea</td>\n",
       "      <td>-23.12</td>\n",
       "      <td>-134.97</td>\n",
       "      <td>76.62</td>\n",
       "      <td>72</td>\n",
       "      <td>7</td>\n",
       "      <td>7.09</td>\n",
       "      <td>PF</td>\n",
       "      <td>1608054618</td>\n",
       "    </tr>\n",
       "  </tbody>\n",
       "</table>\n",
       "</div>"
      ],
      "text/plain": [
       "           City  Latitude  Longitute  Max Temp  Humidity  Cloudiness  \\\n",
       "0  punta arenas    -53.15     -70.92     51.80        57          20   \n",
       "1   yellowknife     62.46    -114.35    -29.00        73          40   \n",
       "2     khandbari     27.37      87.20     52.41        48           0   \n",
       "3        albany     42.60     -73.97     32.00        38           9   \n",
       "4       rikitea    -23.12    -134.97     76.62        72           7   \n",
       "\n",
       "   Wind Speed Country        Date  \n",
       "0       50.55      CL  1608054617  \n",
       "1        2.24      CA  1608054618  \n",
       "2        2.53      NP  1608054618  \n",
       "3        1.99      US  1608054604  \n",
       "4        7.09      PF  1608054618  "
      ]
     },
     "execution_count": 13,
     "metadata": {},
     "output_type": "execute_result"
    }
   ],
   "source": [
    "# Make a new DataFrame equal to the city data to drop all humidity outliers by index.\n",
    "# Passing \"inplace=False\" will make a copy of the city_data DataFrame, which we call \"clean_city_data\".\n",
    "weather_df.head()"
   ]
  },
  {
   "cell_type": "code",
   "execution_count": null,
   "metadata": {},
   "outputs": [],
   "source": [
    "\n"
   ]
  },
  {
   "cell_type": "markdown",
   "metadata": {},
   "source": [
    "## Plotting the Data\n",
    "* Use proper labeling of the plots using plot titles (including date of analysis) and axes labels.\n",
    "* Save the plotted figures as .pngs."
   ]
  },
  {
   "cell_type": "markdown",
   "metadata": {},
   "source": [
    "## Latitude vs. Temperature Plot"
   ]
  },
  {
   "cell_type": "code",
   "execution_count": 15,
   "metadata": {
    "scrolled": true
   },
   "outputs": [
    {
     "data": {
      "image/png": "[encoded data removed]",
      "text/plain": [
       "<Figure size 432x288 with 1 Axes>"
      ]
     },
     "metadata": {
      "needs_background": "light"
     },
     "output_type": "display_data"
    },
    {
     "data": {
      "text/plain": [
       "<Figure size 432x288 with 0 Axes>"
      ]
     },
     "metadata": {},
     "output_type": "display_data"
    }
   ],
   "source": [
    "lat_vs_temp = plt.scatter(weather_df[\"Latitude\"],weather_df[\"Max Temp\"],edgecolors='black')\n",
    "plt.xlabel('Latitude')\n",
    "plt.ylabel('Max Temperature (F)')\n",
    "plt.title('City Latitude vs. Max Temperature (12/12/2020)')\n",
    "plt.grid(color='black', linestyle='-', linewidth=1,alpha=0.2)\n",
    "plt.show()\n",
    "\n",
    "plt.savefig(\"../output_data/lat_vs_temp.png\")"
   ]
  },
  {
   "cell_type": "markdown",
   "metadata": {},
   "source": [
    "## Latitude vs. Humidity Plot"
   ]
  },
  {
   "cell_type": "code",
   "execution_count": 16,
   "metadata": {},
   "outputs": [
    {
     "data": {
      "image/png": "[encoded data removed]",
      "text/plain": [
       "<Figure size 432x288 with 1 Axes>"
      ]
     },
     "metadata": {
      "needs_background": "light"
     },
     "output_type": "display_data"
    },
    {
     "data": {
      "text/plain": [
       "<Figure size 432x288 with 0 Axes>"
      ]
     },
     "metadata": {},
     "output_type": "display_data"
    }
   ],
   "source": [
    "lat_vs_humidity = plt.scatter(weather_df[\"Latitude\"],weather_df[\"Humidity\"],edgecolors='black')\n",
    "plt.xlabel('Latitude')\n",
    "plt.ylabel('Humidity (%)')\n",
    "plt.title('City Latitude vs. Humidity (12/12/2020)')\n",
    "plt.grid(color='black', linestyle='-', linewidth=1,alpha=0.2)\n",
    "plt.show()\n",
    "\n",
    "plt.savefig(\"../output_data/lat_vs_humidity.png\")"
   ]
  },
  {
   "cell_type": "markdown",
   "metadata": {},
   "source": [
    "## Latitude vs. Cloudiness Plot"
   ]
  },
  {
   "cell_type": "code",
   "execution_count": 17,
   "metadata": {},
   "outputs": [
    {
     "data": {
      "image/png": "[encoded data removed]",
      "text/plain": [
       "<Figure size 432x288 with 1 Axes>"
      ]
     },
     "metadata": {
      "needs_background": "light"
     },
     "output_type": "display_data"
    },
    {
     "data": {
      "text/plain": [
       "<Figure size 432x288 with 0 Axes>"
      ]
     },
     "metadata": {},
     "output_type": "display_data"
    }
   ],
   "source": [
    "lat_vs_cloudiness = plt.scatter(weather_df[\"Latitude\"],weather_df[\"Cloudiness\"],edgecolors='black')\n",
    "plt.xlabel('Latitude')\n",
    "plt.ylabel('Cloudiness (%)')\n",
    "plt.title('City Latitude vs. Cloudiness (12/12/2020)')\n",
    "plt.grid(color='black', linestyle='-', linewidth=1,alpha=0.2)\n",
    "plt.show()\n",
    "\n",
    "plt.savefig(\"../output_data/lat_vs_cloud.png\")"
   ]
  },
  {
   "cell_type": "markdown",
   "metadata": {},
   "source": [
    "## Latitude vs. Wind Speed Plot"
   ]
  },
  {
   "cell_type": "code",
   "execution_count": 18,
   "metadata": {},
   "outputs": [
    {
     "data": {
      "image/png": "[encoded data removed]",
      "text/plain": [
       "<Figure size 432x288 with 1 Axes>"
      ]
     },
     "metadata": {
      "needs_background": "light"
     },
     "output_type": "display_data"
    },
    {
     "data": {
      "text/plain": [
       "<Figure size 432x288 with 0 Axes>"
      ]
     },
     "metadata": {},
     "output_type": "display_data"
    }
   ],
   "source": [
    "lat_vs_cloudiness = plt.scatter(weather_df[\"Latitude\"],weather_df[\"Wind Speed\"],edgecolors='black')\n",
    "plt.xlabel('Latitude')\n",
    "plt.ylabel('Wind Speed (mph)')\n",
    "plt.title('City Latitude vs. Wind Speed (12/12/2020)')\n",
    "plt.grid(color='black', linestyle='-', linewidth=1,alpha=0.2)\n",
    "plt.show()\n",
    "\n",
    "plt.savefig(\"../output_data/lat_vs_wind.png\")"
   ]
  },
  {
   "cell_type": "markdown",
   "metadata": {},
   "source": [
    "## Linear Regression"
   ]
  },
  {
   "cell_type": "code",
   "execution_count": 19,
   "metadata": {},
   "outputs": [],
   "source": [
    "northern_df = weather_df.loc[weather_df[\"Latitude\"] >= 0]\n",
    "southern_df = weather_df.loc[weather_df[\"Latitude\"] < 0]"
   ]
  },
  {
   "cell_type": "markdown",
   "metadata": {},
   "source": [
    "####  Northern Hemisphere - Max Temp vs. Latitude Linear Regression"
   ]
  },
  {
   "cell_type": "code",
   "execution_count": 20,
   "metadata": {},
   "outputs": [
    {
     "name": "stdout",
     "output_type": "stream",
     "text": [
      "The r-value is: -0.84\n"
     ]
    },
    {
     "data": {
      "image/png": "[encoded data removed]",
      "text/plain": [
       "<Figure size 432x288 with 1 Axes>"
      ]
     },
     "metadata": {
      "needs_background": "light"
     },
     "output_type": "display_data"
    },
    {
     "data": {
      "text/plain": [
       "<Figure size 432x288 with 0 Axes>"
      ]
     },
     "metadata": {},
     "output_type": "display_data"
    }
   ],
   "source": [
    "corr_north_temp = st.pearsonr(northern_df[\"Latitude\"],northern_df[\"Max Temp\"])\n",
    "print(f\"The r-value is: {round(corr_north_temp[0],2)}\")\n",
    "\n",
    "x_values = northern_df[\"Latitude\"]\n",
    "y_values = northern_df[\"Max Temp\"]\n",
    "(slope, intercept, rvalue, pvalue, stderr) = st.linregress(x_values, y_values)\n",
    "regress_values = x_values * slope + intercept\n",
    "line_eq = \"y = \" + str(round(slope,2)) + \"x + \" + str(round(intercept,2))\n",
    "plt.scatter(x_values,y_values)\n",
    "plt.plot(x_values,regress_values,\"r-\")\n",
    "plt.annotate(line_eq,(0,0),fontsize=15,color=\"red\")\n",
    "plt.xlabel('Latitude')\n",
    "plt.ylabel('Max Tmperature (F)')\n",
    "\n",
    "plt.show()\n",
    "\n",
    "plt.savefig(\"../output_data/northern_hem_vs_temp.png\")"
   ]
  },
  {
   "cell_type": "markdown",
   "metadata": {},
   "source": [
    "####  Southern Hemisphere - Max Temp vs. Latitude Linear Regression"
   ]
  },
  {
   "cell_type": "code",
   "execution_count": 21,
   "metadata": {},
   "outputs": [
    {
     "name": "stdout",
     "output_type": "stream",
     "text": [
      "The r-value is: 0.67\n"
     ]
    },
    {
     "data": {
      "image/png": "[encoded data removed]",
      "text/plain": [
       "<Figure size 432x288 with 1 Axes>"
      ]
     },
     "metadata": {
      "needs_background": "light"
     },
     "output_type": "display_data"
    },
    {
     "data": {
      "text/plain": [
       "<Figure size 432x288 with 0 Axes>"
      ]
     },
     "metadata": {},
     "output_type": "display_data"
    }
   ],
   "source": [
    "corr_south_temp = st.pearsonr(southern_df[\"Latitude\"],southern_df[\"Max Temp\"])\n",
    "print(f\"The r-value is: {round(corr_south_temp[0],2)}\")\n",
    "\n",
    "x_values = southern_df[\"Latitude\"]\n",
    "y_values = southern_df[\"Max Temp\"]\n",
    "(slope, intercept, rvalue, pvalue, stderr) = st.linregress(x_values, y_values)\n",
    "regress_values = x_values * slope + intercept\n",
    "line_eq = \"y = \" + str(round(slope,2)) + \"x + \" + str(round(intercept,2))\n",
    "plt.scatter(x_values,y_values)\n",
    "plt.plot(x_values,regress_values,\"r-\")\n",
    "plt.annotate(line_eq,(-25,52),fontsize=15,color=\"red\")\n",
    "plt.xlabel('Latitude')\n",
    "plt.ylabel('Max Tmperature (F)')\n",
    "\n",
    "plt.show()\n",
    "\n",
    "plt.savefig(\"../output_data/southern_hem_vs_temp.png\")"
   ]
  },
  {
   "cell_type": "markdown",
   "metadata": {},
   "source": [
    "####  Northern Hemisphere - Humidity (%) vs. Latitude Linear Regression"
   ]
  },
  {
   "cell_type": "code",
   "execution_count": 22,
   "metadata": {},
   "outputs": [
    {
     "name": "stdout",
     "output_type": "stream",
     "text": [
      "The r-value is: 0.35\n"
     ]
    },
    {
     "data": {
      "image/png": "[encoded data removed]",
      "text/plain": [
       "<Figure size 432x288 with 1 Axes>"
      ]
     },
     "metadata": {
      "needs_background": "light"
     },
     "output_type": "display_data"
    },
    {
     "data": {
      "text/plain": [
       "<Figure size 432x288 with 0 Axes>"
      ]
     },
     "metadata": {},
     "output_type": "display_data"
    }
   ],
   "source": [
    "corr_north_hum = st.pearsonr(northern_df[\"Latitude\"],northern_df[\"Humidity\"])\n",
    "print(f\"The r-value is: {round(corr_north_hum[0],2)}\")\n",
    "\n",
    "x_values = northern_df[\"Latitude\"]\n",
    "y_values = northern_df[\"Humidity\"]\n",
    "(slope, intercept, rvalue, pvalue, stderr) = st.linregress(x_values, y_values)\n",
    "regress_values = x_values * slope + intercept\n",
    "line_eq = \"y = \" + str(round(slope,2)) + \"x + \" + str(round(intercept,2))\n",
    "plt.scatter(x_values,y_values)\n",
    "plt.plot(x_values,regress_values,\"r-\")\n",
    "plt.annotate(line_eq,(40,20),fontsize=15,color=\"red\")\n",
    "plt.xlabel('Latitude')\n",
    "plt.ylabel('Humidity (%)')\n",
    "\n",
    "plt.show()\n",
    "\n",
    "plt.savefig(\"../output_data/northern_hem_vs_humidity.png\")"
   ]
  },
  {
   "cell_type": "markdown",
   "metadata": {},
   "source": [
    "####  Southern Hemisphere - Humidity (%) vs. Latitude Linear Regression"
   ]
  },
  {
   "cell_type": "code",
   "execution_count": 23,
   "metadata": {},
   "outputs": [
    {
     "name": "stdout",
     "output_type": "stream",
     "text": [
      "The r-value is: 0.16\n"
     ]
    },
    {
     "data": {
      "image/png": "[encoded data removed]",
      "text/plain": [
       "<Figure size 432x288 with 1 Axes>"
      ]
     },
     "metadata": {
      "needs_background": "light"
     },
     "output_type": "display_data"
    },
    {
     "data": {
      "text/plain": [
       "<Figure size 432x288 with 0 Axes>"
      ]
     },
     "metadata": {},
     "output_type": "display_data"
    }
   ],
   "source": [
    "corr_south_hum = st.pearsonr(southern_df[\"Latitude\"],southern_df[\"Humidity\"])\n",
    "print(f\"The r-value is: {round(corr_south_hum[0],2)}\")\n",
    "\n",
    "x_values = southern_df[\"Latitude\"]\n",
    "y_values = southern_df[\"Humidity\"]\n",
    "(slope, intercept, rvalue, pvalue, stderr) = st.linregress(x_values, y_values)\n",
    "regress_values = x_values * slope + intercept\n",
    "line_eq = \"y = \" + str(round(slope,2)) + \"x + \" + str(round(intercept,2))\n",
    "plt.scatter(x_values,y_values)\n",
    "plt.plot(x_values,regress_values,\"r-\")\n",
    "plt.annotate(line_eq,(-25,26),fontsize=15,color=\"red\")\n",
    "plt.xlabel('Latitude')\n",
    "plt.ylabel('Humidity (%)')\n",
    "\n",
    "plt.show()\n",
    "\n",
    "plt.savefig(\"../output_data/southern_hem_vs_humidity.png\")"
   ]
  },
  {
   "cell_type": "markdown",
   "metadata": {},
   "source": [
    "####  Northern Hemisphere - Cloudiness (%) vs. Latitude Linear Regression"
   ]
  },
  {
   "cell_type": "code",
   "execution_count": 24,
   "metadata": {},
   "outputs": [
    {
     "name": "stdout",
     "output_type": "stream",
     "text": [
      "The r-value is: 0.29\n"
     ]
    },
    {
     "data": {
      "image/png": "[encoded data removed]",
      "text/plain": [
       "<Figure size 432x288 with 1 Axes>"
      ]
     },
     "metadata": {
      "needs_background": "light"
     },
     "output_type": "display_data"
    },
    {
     "data": {
      "text/plain": [
       "<Figure size 432x288 with 0 Axes>"
      ]
     },
     "metadata": {},
     "output_type": "display_data"
    }
   ],
   "source": [
    "corr_north_cloud = st.pearsonr(northern_df[\"Latitude\"],northern_df[\"Cloudiness\"])\n",
    "print(f\"The r-value is: {round(corr_north_cloud[0],2)}\")\n",
    "\n",
    "x_values = northern_df[\"Latitude\"]\n",
    "y_values = northern_df[\"Cloudiness\"]\n",
    "(slope, intercept, rvalue, pvalue, stderr) = st.linregress(x_values, y_values)\n",
    "regress_values = x_values * slope + intercept\n",
    "line_eq = \"y = \" + str(round(slope,2)) + \"x + \" + str(round(intercept,2))\n",
    "plt.scatter(x_values,y_values)\n",
    "plt.plot(x_values,regress_values,\"r-\")\n",
    "plt.annotate(line_eq,(40,20),fontsize=15,color=\"red\")\n",
    "plt.xlabel('Latitude')\n",
    "plt.ylabel('Cloudiness (%)')\n",
    "\n",
    "plt.show()\n",
    "\n",
    "plt.savefig(\"../output_data/northern_hem_vs_cloud.png\")"
   ]
  },
  {
   "cell_type": "markdown",
   "metadata": {},
   "source": [
    "####  Southern Hemisphere - Cloudiness (%) vs. Latitude Linear Regression"
   ]
  },
  {
   "cell_type": "code",
   "execution_count": 25,
   "metadata": {},
   "outputs": [
    {
     "name": "stdout",
     "output_type": "stream",
     "text": [
      "The r-value is: 0.28\n"
     ]
    },
    {
     "data": {
      "image/png": "[encoded data removed]",
      "text/plain": [
       "<Figure size 432x288 with 1 Axes>"
      ]
     },
     "metadata": {
      "needs_background": "light"
     },
     "output_type": "display_data"
    },
    {
     "data": {
      "text/plain": [
       "<Figure size 432x288 with 0 Axes>"
      ]
     },
     "metadata": {},
     "output_type": "display_data"
    }
   ],
   "source": [
    "corr_south_cloud = st.pearsonr(southern_df[\"Latitude\"],southern_df[\"Cloudiness\"])\n",
    "print(f\"The r-value is: {round(corr_south_cloud[0],2)}\")\n",
    "\n",
    "x_values = southern_df[\"Latitude\"]\n",
    "y_values = southern_df[\"Cloudiness\"]\n",
    "(slope, intercept, rvalue, pvalue, stderr) = st.linregress(x_values, y_values)\n",
    "regress_values = x_values * slope + intercept\n",
    "line_eq = \"y = \" + str(round(slope,2)) + \"x + \" + str(round(intercept,2))\n",
    "plt.scatter(x_values,y_values)\n",
    "plt.plot(x_values,regress_values,\"r-\")\n",
    "plt.annotate(line_eq,(-25,26),fontsize=15,color=\"red\")\n",
    "plt.xlabel('Latitude')\n",
    "plt.ylabel('Cloudiness (%)')\n",
    "\n",
    "plt.show()\n",
    "\n",
    "plt.savefig(\"../output_data/southern_hem_vs_cloud.png\")"
   ]
  },
  {
   "cell_type": "markdown",
   "metadata": {},
   "source": [
    "####  Northern Hemisphere - Wind Speed (mph) vs. Latitude Linear Regression"
   ]
  },
  {
   "cell_type": "code",
   "execution_count": 26,
   "metadata": {},
   "outputs": [
    {
     "name": "stdout",
     "output_type": "stream",
     "text": [
      "The r-value is: 0.15\n"
     ]
    },
    {
     "data": {
      "image/png": "[encoded data removed]",
      "text/plain": [
       "<Figure size 432x288 with 1 Axes>"
      ]
     },
     "metadata": {
      "needs_background": "light"
     },
     "output_type": "display_data"
    },
    {
     "data": {
      "text/plain": [
       "<Figure size 432x288 with 0 Axes>"
      ]
     },
     "metadata": {},
     "output_type": "display_data"
    }
   ],
   "source": [
    "corr_north_wind = st.pearsonr(northern_df[\"Latitude\"],northern_df[\"Wind Speed\"])\n",
    "print(f\"The r-value is: {round(corr_north_wind[0],2)}\")\n",
    "\n",
    "x_values = northern_df[\"Latitude\"]\n",
    "y_values = northern_df[\"Wind Speed\"]\n",
    "(slope, intercept, rvalue, pvalue, stderr) = st.linregress(x_values, y_values)\n",
    "regress_values = x_values * slope + intercept\n",
    "line_eq = \"y = \" + str(round(slope,2)) + \"x + \" + str(round(intercept,2))\n",
    "plt.scatter(x_values,y_values)\n",
    "plt.plot(x_values,regress_values,\"r-\")\n",
    "plt.annotate(line_eq,(40,20),fontsize=15,color=\"red\")\n",
    "plt.xlabel('Latitude')\n",
    "plt.ylabel('Wind Speed')\n",
    "\n",
    "plt.show()\n",
    "\n",
    "plt.savefig(\"../output_data/northern_hem_vs_wind.png\")"
   ]
  },
  {
   "cell_type": "markdown",
   "metadata": {},
   "source": [
    "####  Southern Hemisphere - Wind Speed (mph) vs. Latitude Linear Regression"
   ]
  },
  {
   "cell_type": "code",
   "execution_count": 27,
   "metadata": {},
   "outputs": [
    {
     "name": "stdout",
     "output_type": "stream",
     "text": [
      "The r-value is: -0.33\n"
     ]
    },
    {
     "data": {
      "image/png": "[encoded data removed]",
      "text/plain": [
       "<Figure size 432x288 with 1 Axes>"
      ]
     },
     "metadata": {
      "needs_background": "light"
     },
     "output_type": "display_data"
    },
    {
     "data": {
      "text/plain": [
       "<Figure size 432x288 with 0 Axes>"
      ]
     },
     "metadata": {},
     "output_type": "display_data"
    }
   ],
   "source": [
    "corr_south_wind = st.pearsonr(southern_df[\"Latitude\"],southern_df[\"Wind Speed\"])\n",
    "print(f\"The r-value is: {round(corr_south_wind[0],2)}\")\n",
    "\n",
    "x_values = southern_df[\"Latitude\"]\n",
    "y_values = southern_df[\"Wind Speed\"]\n",
    "(slope, intercept, rvalue, pvalue, stderr) = st.linregress(x_values, y_values)\n",
    "regress_values = x_values * slope + intercept\n",
    "line_eq = \"y = \" + str(round(slope,2)) + \"x + \" + str(round(intercept,2))\n",
    "plt.scatter(x_values,y_values)\n",
    "plt.plot(x_values,regress_values,\"r-\")\n",
    "plt.annotate(line_eq,(-25,26),fontsize=15,color=\"red\")\n",
    "plt.xlabel('Latitude')\n",
    "plt.ylabel('Wind Speed')\n",
    "\n",
    "plt.show()\n",
    "\n",
    "plt.savefig(\"../output_data/southern_hem_vs_wind.png\")"
   ]
  },
  {
   "cell_type": "code",
   "execution_count": null,
   "metadata": {},
   "outputs": [],
   "source": []
  }
 ],
 "metadata": {
  "anaconda-cloud": {},
  "kernel_info": {
   "name": "python3"
  },
  "kernelspec": {
   "display_name": "Python (PythonData) ",
   "language": "python",
   "name": "myenv"
  },
  "language_info": {
   "codemirror_mode": {
    "name": "ipython",
    "version": 3
   },
   "file_extension": ".py",
   "mimetype": "text/x-python",
   "name": "python",
   "nbconvert_exporter": "python",
   "pygments_lexer": "ipython3",
   "version": "3.8.5"
  },
  "latex_envs": {
   "LaTeX_envs_menu_present": true,
   "autoclose": false,
   "autocomplete": true,
   "bibliofile": "biblio.bib",
   "cite_by": "apalike",
   "current_citInitial": 1,
   "eqLabelWithNumbers": true,
   "eqNumInitial": 1,
   "hotkeys": {
    "equation": "Ctrl-E",
    "itemize": "Ctrl-I"
   },
   "labels_anchors": false,
   "latex_user_defs": false,
   "report_style_numbering": false,
   "user_envs_cfg": false
  },
  "nteract": {
   "version": "0.12.3"
  }
 },
 "nbformat": 4,
 "nbformat_minor": 2
}
